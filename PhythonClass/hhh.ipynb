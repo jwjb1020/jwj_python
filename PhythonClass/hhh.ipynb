{
 "cells": [
  {
   "attachments": {},
   "cell_type": "markdown",
   "metadata": {},
   "source": [
    "문제\n",
    "• 사용자 정의 모듈을 작성하여 간단한 수학 연산을 수행\n",
    "해 보세요.\n",
    "– mymath.py라는 파일을 만들고, 이 파일에 사용자 정의 모듈을\n",
    "작성하세요.\n",
    "– 모듈에 다음 함수들을 구현하세요:\n",
    "• add(x, y): 두 숫자 x와 y를 더한 값을 반환합니다.\n",
    "• subtract(x, y): x에서 y를 뺀 값을 반환합니다.\n",
    "• multiply(x, y): x와 y를 곱한 값을 반환합니다.\n",
    "• divide(x, y): x를 y로 나눈 값을 반환합니다. 단, y가 0이면 \"0으로 나\n",
    "눌 수 없습니다.\"라는 메시지를 출력합니다.\n",
    "– main.py라는 파일을 만들어 mymath 모듈을 임포트하고, 각 함\n",
    "수를 호출하여 결과를 출력하세요.\n",
    "# main.py를 실행한 경우:\n",
    "더하기 결과: 7\n",
    "빼기 결과: 1\n",
    "곱하기 결과: 12\n",
    "나누기 결과: 2.0\n"
   ]
  },
  {
   "cell_type": "code",
   "execution_count": 5,
   "metadata": {},
   "outputs": [
    {
     "name": "stdout",
     "output_type": "stream",
     "text": [
      "동양\n",
      "65\n",
      "2023\n"
     ]
    }
   ],
   "source": [
    "class Person:\n",
    "    def __init__(self, name, age): \n",
    "        self.name = name \n",
    "        self.age = age \n",
    "    def getName(self): \n",
    "        return self.name \n",
    "    def getAge(self): \n",
    "        return self.age\n",
    "\n",
    "class Employee(Person):\n",
    "    def __init__(self, name, age,employeeId):\n",
    "        super().__init__(name, age)\n",
    "        self.employeeId = employeeId\n",
    "    def getId(self):\n",
    "        return self.employeeId\n",
    "emp = Employee(\"동양\",65,2023)\n",
    "print(emp.getName())\n",
    "print(emp.getAge())\n",
    "print(emp.getId())  "
   ]
  },
  {
   "cell_type": "code",
   "execution_count": null,
   "metadata": {},
   "outputs": [],
   "source": []
  }
 ],
 "metadata": {
  "kernelspec": {
   "display_name": "Python 3",
   "language": "python",
   "name": "python3"
  },
  "language_info": {
   "codemirror_mode": {
    "name": "ipython",
    "version": 3
   },
   "file_extension": ".py",
   "mimetype": "text/x-python",
   "name": "python",
   "nbconvert_exporter": "python",
   "pygments_lexer": "ipython3",
   "version": "3.11.3"
  },
  "orig_nbformat": 4
 },
 "nbformat": 4,
 "nbformat_minor": 2
}
