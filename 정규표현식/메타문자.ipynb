{
 "cells": [
  {
   "attachments": {},
   "cell_type": "markdown",
   "metadata": {},
   "source": [
    "# 정규표현식 메타 문자 <br>\n",
    "• 정규표현식에서 사용되는 일부 메타문자들<br>\n",
    "    – . : 줄바꿈 문자(\\n)를 제외한 모든 문자와 매칭됩니다.<br>\n",
    "    – ^ : 문자열의 시작과 매칭됩니다.<br>\n",
    "    – $ : 문자열의 끝과 매칭됩니다.<br>\n",
    "    – * : 앞의 문자가 0번 이상 반복되는 패턴과 매칭됩니다.<br>\n",
    "    – + : 앞의 문자가 1번 이상 반복되는 패턴과 매칭됩니다.<br>\n",
    "    – ? : 앞의 문자가 0번 또는 1번 나타나는 패턴과 매칭됩니다.<br>\n",
    "    – [] : 대괄호 안에 나열된 문자 중 하나와 매칭됩니다.<br>\n",
    "• [a-z] : 알파벳 소문자 중 하나와 매칭됩니다.<br>\n",
    "• [A-Z] : 알파벳 대문자 중 하나와 매칭됩니다.<br>\n",
    "• [0-9] : 숫자 중 하나와 매칭됩니다.<br>\n",
    "– | : OR 연산자 역할을 하며, 왼쪽 또는 오른쪽 패턴 중 하나와 매칭됩니다.<br>\n",
    "– () : 그룹핑을 위해 사용되며, 매칭 결과에 대한 그룹을 생성합니다.<br>\n",
    "– {} : 중괄호 안에 숫자가 들어가며, 앞의 문자나 패턴이 해당 숫자만큼 나타나는 패턴과\n",
    "매칭됩니다.<br>\n",
    "– () : 그룹핑을 위해 사용되며, 매칭 결과에 대한 그룹을 생성합니다.<br>\n",
    "– \\ : 이스케이프 문자로 사용되며, 메타문자를 문자 그대로 매칭시키기 위해 사용됩니다.<br>\n",
    "– \\d : 숫자와 매칭됩니다.<br>\n",
    "– \\D : 숫자가 아닌 문자와 매칭됩니다.<br>\n",
    "– \\w : 숫자와 알파벳(대소문자), 언더스코어(_)와 매칭됩니다.<br>\n",
    "– \\W : 숫자와 알파벳(대소문자), 언더스코어(_)가 아닌 문자와 매칭됩니다.<br>\n",
    "– \\s : 공백 문자와 매칭됩니다.<br>\n",
    "– \\S : 공백 문자가 아닌 문자와 매칭됩니다<br>"
   ]
  },
  {
   "cell_type": "code",
   "execution_count": 1,
   "metadata": {},
   "outputs": [
    {
     "name": "stdout",
     "output_type": "stream",
     "text": [
      "매칭된 문자열: python\n",
      "매칭되지 않음\n",
      "매칭되지 않음\n"
     ]
    }
   ],
   "source": [
    "import re\n",
    "# 문자열의 시작부터 정규표현식과 매칭되는 패턴 찾기\n",
    "pattern = r\"python\"\n",
    "string1 = \"python is easy\"\n",
    "string2 = \"I love python\"\n",
    "string3 = \"Python is fun\"\n",
    "match1 = re.match(pattern, string1)\n",
    "match2 = re.match(pattern, string2)\n",
    "match3 = re.match(pattern, string3)\n",
    "if match1:\n",
    "    print(\"매칭된 문자열:\", match1.group()) # 매칭된 문자열: python\n",
    "else:\n",
    "    print(\"매칭되지 않음\")\n",
    "if match2:\n",
    "    print(\"매칭된 문자열:\", match2.group())\n",
    "else:\n",
    "    print(\"매칭되지 않음\")\n",
    "if match3:\n",
    "    print(\"매칭된 문자열:\", match3.group())\n",
    "else:\n",
    "    print(\"매칭되지 않음\")"
   ]
  },
  {
   "cell_type": "code",
   "execution_count": 2,
   "metadata": {},
   "outputs": [
    {
     "name": "stdout",
     "output_type": "stream",
     "text": [
      "매칭된 문자열: python\n",
      "매칭된 문자열: python\n",
      "매칭되지 않음\n"
     ]
    }
   ],
   "source": [
    "import re\n",
    "# 문자열 전체에서 정규표현식과 매칭되는 패턴 찾기\n",
    "pattern = r\"python\"\n",
    "string1 = \"python is easy\"\n",
    "string2 = \"I love python\"\n",
    "string3 = \"Python is fun\"\n",
    "match1 = re.search(pattern, string1)\n",
    "match2 = re.search(pattern, string2)\n",
    "match3 = re.search(pattern, string3)\n",
    "if match1:\n",
    "    print(\"매칭된 문자열:\", match1.group()) # 매칭된 문자열: python\n",
    "else:\n",
    "    print(\"매칭되지 않음\")\n",
    "if match2:\n",
    "    print(\"매칭된 문자열:\", match2.group()) # 매칭된 문자열: python\n",
    "else:\n",
    "    print(\"매칭되지 않음\")\n",
    "if match3:\n",
    "    print(\"매칭된 문자열:\", match3.group())\n",
    "else:\n",
    "    print(\"매칭되지 않음\")"
   ]
  },
  {
   "cell_type": "code",
   "execution_count": 3,
   "metadata": {},
   "outputs": [
    {
     "name": "stdout",
     "output_type": "stream",
     "text": [
      "['2', '3']\n",
      "['1', '5']\n",
      "['12345678']\n"
     ]
    }
   ],
   "source": [
    "import re\n",
    "# 문자열에서 정규표현식과 매칭되는 모든 패턴 찾기\n",
    "pattern = r\"\\d+\"\n",
    "string1 = \"I have 2 apples and 3 oranges\"\n",
    "string2 = \"The temperature is -1.5 degrees Celsius\"\n",
    "string3 = \"The password is 12345678\"\n",
    "matches1 = re.findall(pattern, string1)\n",
    "matches2 = re.findall(pattern, string2)\n",
    "matches3 = re.findall(pattern, string3)\n",
    "print(matches1) # ['2', '3']\n",
    "print(matches2) # ['-1', '5']\n",
    "print(matches3) # ['12345678']"
   ]
  },
  {
   "cell_type": "code",
   "execution_count": 4,
   "metadata": {},
   "outputs": [
    {
     "name": "stdout",
     "output_type": "stream",
     "text": [
      "I have 10 apples and 10 oranges\n",
      "The temperature is -0.0 degrees Celsius\n",
      "The password is ***\n"
     ]
    }
   ],
   "source": [
    "import re\n",
    "# 문자열에서 정규표현식과 매칭되는 모든 패턴을 다른 문자열로 대체하기\n",
    "pattern = r\"\\d+\"\n",
    "string1 = \"I have 2 apples and 3 oranges\"\n",
    "string2 = \"The temperature is -1.5 degrees Celsius\"\n",
    "string3 = \"The password is 12345678\"\n",
    "result1 = re.sub(pattern, \"10\", string1)\n",
    "result2 = re.sub(pattern, \"0\", string2)\n",
    "result3 = re.sub(pattern, \"***\", string3)\n",
    "print(result1) # I have 10 apples and 10 oranges\n",
    "print(result2) # The temperature is -0.0 degrees Celsius\n",
    "print(result3) # The password is ***"
   ]
  },
  {
   "attachments": {},
   "cell_type": "markdown",
   "metadata": {},
   "source": [
    "## 그룹핑\n",
    "• 그룹핑은소괄호(())로 표현하며, 그룹핑된 문자열은 ()안에 위치합니다. <br>\n",
    "• 그룹핑된 문자열은 해당 그룹핑의 순서대로 1, 2, 3...과 같은 그룹핑 인덱스\n",
    "를 부여받습니다. <br>\n",
    "• 유용한 상황<br>\n",
    "– 매칭된 패턴에서 특정 부분만 추출하고자 할 때<br>\n",
    "– 매칭된 패턴에서 특정 부분을 치환하고자 할 때<br>\n",
    "• 그룹핑 추출 예시<br>\n",
    "– 전화번호에서 지역번호와 나머지 번호를 각각 추출<br>"
   ]
  },
  {
   "cell_type": "code",
   "execution_count": 5,
   "metadata": {},
   "outputs": [
    {
     "name": "stdout",
     "output_type": "stream",
     "text": [
      "010\n",
      "1234-5678\n"
     ]
    }
   ],
   "source": [
    "import re\n",
    "phone_number = \"010-1234-5678\"\n",
    "pattern = r\"(\\d{2,3})-(\\d{3,4})-(\\d{4})\"\n",
    "result = re.match(pattern, phone_number)\n",
    "area_code = result.group(1)\n",
    "phone_number_without_area_code = result.group(2) + \"-\" + result.group(3)\n",
    "print(area_code) # 010\n",
    "print(phone_number_without_area_code) # 1234-5678"
   ]
  },
  {
   "attachments": {},
   "cell_type": "markdown",
   "metadata": {},
   "source": [
    "## 그룹핑 치환 예시\n",
    "• 날짜 표기법이 YYYY-MM-DD 형태로 되어 있을 때 이를 MM/DD/YYYY 형\n",
    "태로 바꾸고 싶다면"
   ]
  },
  {
   "cell_type": "code",
   "execution_count": 6,
   "metadata": {},
   "outputs": [
    {
     "name": "stdout",
     "output_type": "stream",
     "text": [
      "03/18/2022\n"
     ]
    }
   ],
   "source": [
    "import re\n",
    "date = \"2022-03-18\"\n",
    "pattern = r\"(\\d{4})-(\\d{2})-(\\d{2})\"\n",
    "result = re.sub(pattern, r\"\\2/\\3/\\1\", date)\n",
    "print(result) # \"03/18/2022\""
   ]
  },
  {
   "attachments": {},
   "cell_type": "markdown",
   "metadata": {},
   "source": [
    "### 이름 순서 바꾸기"
   ]
  },
  {
   "cell_type": "code",
   "execution_count": 7,
   "metadata": {},
   "outputs": [
    {
     "name": "stdout",
     "output_type": "stream",
     "text": [
      "Yuna Kim\n"
     ]
    }
   ],
   "source": [
    "import re\n",
    "# 이름 순서 바꾸기\n",
    "string = \"Kim, Yuna\"\n",
    "pattern = r\"(\\w+),\\s*(\\w+)\"\n",
    "result = re.sub(pattern, r\"\\2 \\1\", string)\n",
    "print(result) # \"Yuna Kim\"\n"
   ]
  },
  {
   "attachments": {},
   "cell_type": "markdown",
   "metadata": {},
   "source": [
    "## 정규표현식 패턴 옵션\n",
    "• 패턴 옵션<br>\n",
    "– 정규표현식에서 사용되는 패턴 옵션은 대소문자 무시, 다중행 모\n",
    "드 등이 있습니다.<br>"
   ]
  },
  {
   "cell_type": "code",
   "execution_count": 8,
   "metadata": {},
   "outputs": [
    {
     "name": "stdout",
     "output_type": "stream",
     "text": [
      "[]\n",
      "['Python']\n"
     ]
    }
   ],
   "source": [
    "#re.IGNORECASE\n",
    "string = \"Python is an interpreted language\"\n",
    "import re\n",
    "pattern = 'python'\n",
    "result = re.findall(pattern, string)\n",
    "print(result) # []\n",
    "result = re.findall(pattern, string, re.IGNORECASE)\n",
    "print(result) # ['Python']\n"
   ]
  },
  {
   "cell_type": "code",
   "execution_count": 9,
   "metadata": {},
   "outputs": [
    {
     "name": "stdout",
     "output_type": "stream",
     "text": [
      "['Python', 'typed']\n"
     ]
    }
   ],
   "source": [
    "#re.MULTILINE\n",
    "string = \"\"\"Python is an interpreted language\n",
    "It is dynamically typed\n",
    "And it is easy to learn\"\"\"\n",
    "import re\n",
    "pattern = '^Python|typed$'\n",
    "result = re.findall(pattern, string, re.MULTILINE)\n",
    "print(result) # ['Python', 'typed']\n"
   ]
  },
  {
   "attachments": {},
   "cell_type": "markdown",
   "metadata": {},
   "source": [
    "## 정규표현식을 활용한 실제 예제\n",
    "• 이메일 주소 추출"
   ]
  },
  {
   "cell_type": "code",
   "execution_count": 10,
   "metadata": {},
   "outputs": [
    {
     "name": "stdout",
     "output_type": "stream",
     "text": [
      "['john.doe123@example.com', 'jane@example.co.uk']\n"
     ]
    }
   ],
   "source": [
    "import re\n",
    "def extract_email(string):\n",
    "    pattern = r'\\b[A-Za-z0-9._%+-]+@[A-Za-z0-9.-]+\\.[A-Z|a-z]{2,}\\b'\n",
    "    emails = re.findall(pattern, string)\n",
    "    return emails\n",
    "string = \"John's email is john.doe123@example.com. Jane can be reached at jane@example.co.uk.\"\n",
    "emails = extract_email(string)\n",
    "print(emails) # ['john.doe123@example.com', 'jane@example.co.uk']\n"
   ]
  },
  {
   "attachments": {},
   "cell_type": "markdown",
   "metadata": {},
   "source": [
    "## \\b\n",
    "• \\b는 단어(word) 경계를 나타내는 메타문자입니다. <br>\n",
    "• 단어 경계란<br>\n",
    "– 단어와 단어가 아닌 문자(character) 사이의 경계를 의미합니다. <br>\n",
    "– 예를 들어, 단어 book의 경계는 공백이나 문장부호 등의 문자가<br>\n",
    "있을 수 있습니다.<br> \\b는 이러한 단어 경계를 나타내므로, 정규표\n",
    "현식에서 단어 검색을 할 때 매우 유용합니다."
   ]
  },
  {
   "cell_type": "code",
   "execution_count": 11,
   "metadata": {},
   "outputs": [
    {
     "name": "stdout",
     "output_type": "stream",
     "text": [
      "['book']\n"
     ]
    },
    {
     "data": {
      "text/plain": [
       "'이 정규표현식은 단어 경계(\\x08)로 둘러싸인 book을 검색\\n즉, 문자열 book이 단어가 아닌 일부 단어의 일부분으로 포함되어 있\\n더라도 매칭되지 않습니다.'"
      ]
     },
     "execution_count": 11,
     "metadata": {},
     "output_type": "execute_result"
    }
   ],
   "source": [
    "string = \"I love books. My favorite book is 'The Great Gatsby'.\"\n",
    "import re\n",
    "pattern = r'\\bbook\\b'\n",
    "result = re.findall(pattern, string)\n",
    "print(result) # ['book']\n",
    "\"\"\"이 정규표현식은 단어 경계(\\b)로 둘러싸인 book을 검색\n",
    "즉, 문자열 book이 단어가 아닌 일부 단어의 일부분으로 포함되어 있\n",
    "더라도 매칭되지 않습니다.\"\"\""
   ]
  },
  {
   "attachments": {},
   "cell_type": "markdown",
   "metadata": {},
   "source": [
    "## 정규표현식을 활용한 실제 예제\n",
    "• 정규표현식을 사용한 데이터 유효성 검증<br>\n",
    "– 메일 주소의 유효성을 검증하는 예제"
   ]
  },
  {
   "cell_type": "code",
   "execution_count": 12,
   "metadata": {},
   "outputs": [
    {
     "name": "stdout",
     "output_type": "stream",
     "text": [
      "True\n",
      "True\n",
      "False\n",
      "False\n",
      "False\n"
     ]
    }
   ],
   "source": [
    "import re\n",
    "def is_valid_email(email):\n",
    "    pattern = r'^[a-zA-Z0-9+-_.]+@[a-zA-Z0-9-]+\\.[a-zA-Z0-9-.]+$'\n",
    "    if re.match(pattern, email):\n",
    "        return True\n",
    "    else:\n",
    "        return False\n",
    "email1 = 'example@example.com'\n",
    "email2 = 'example@example.co.kr'\n",
    "email3 = 'example.example.com'\n",
    "email4 = 'example@example.'\n",
    "email5 = 'example@example'\n",
    "print(is_valid_email(email1)) # True\n",
    "print(is_valid_email(email2)) # True\n",
    "print(is_valid_email(email3)) # False\n",
    "print(is_valid_email(email4)) # False\n",
    "print(is_valid_email(email5)) # False"
   ]
  },
  {
   "attachments": {},
   "cell_type": "markdown",
   "metadata": {},
   "source": [
    "– 전화번호 유효성 검증하는 예제\n"
   ]
  },
  {
   "cell_type": "code",
   "execution_count": 13,
   "metadata": {},
   "outputs": [
    {
     "name": "stdout",
     "output_type": "stream",
     "text": [
      "True\n",
      "False\n",
      "False\n"
     ]
    }
   ],
   "source": [
    "import re\n",
    "def is_valid_phone_number(phone_number):\n",
    "    pattern = r'^\\d{3}-\\d{3,4}-\\d{4}$'\n",
    "    if re.match(pattern, phone_number):\n",
    "        return True\n",
    "    else:\n",
    "        return False\n",
    "phone_number1 = '010-1234-5678'\n",
    "phone_number2 = '02-123-4567'\n",
    "phone_number3 = '123-4567'\n",
    "print(is_valid_phone_number(phone_number1)) # True\n",
    "print(is_valid_phone_number(phone_number2)) # False\n",
    "print(is_valid_phone_number(phone_number3)) # False"
   ]
  }
 ],
 "metadata": {
  "kernelspec": {
   "display_name": "Python 3",
   "language": "python",
   "name": "python3"
  },
  "language_info": {
   "codemirror_mode": {
    "name": "ipython",
    "version": 3
   },
   "file_extension": ".py",
   "mimetype": "text/x-python",
   "name": "python",
   "nbconvert_exporter": "python",
   "pygments_lexer": "ipython3",
   "version": "3.11.3"
  },
  "orig_nbformat": 4
 },
 "nbformat": 4,
 "nbformat_minor": 2
}
