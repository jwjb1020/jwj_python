{
 "cells": [
  {
   "attachments": {},
   "cell_type": "markdown",
   "metadata": {},
   "source": [
    "110. Word Replacement Write a program that requests a sentence, a word in \n",
    "the sentence, and another word and then displays the sentence with the first \n",
    "word replaced by the second. Do not use the format method.\n",
    "Enter a sentence: What you don't know won't hurt you.\n",
    "Enter word to replace: know\n",
    "Enter replacement word: owe\n",
    "What you don't owe won't hurt you.\n",
    "Exercises 2.3\n",
    "58. Present Value The present value of f dollars at interest rate r% compounded\n",
    "annually for n years is the amount of money that must be invested now in \n",
    "order to grow to f dollars (called the future value) in n years where the \n",
    "interest rate is r% per year. The formula for present value is\n",
    "     \n",
    " \n",
    " \n",
    " Calculate the present value of an investment after the user enters the future \n",
    "value, interest rate, and number of years. The following figure shows that at \n",
    "4% interest per year, $7,903.15 must be invested now in order to have \n",
    "- 120 -\n",
    "$10,000 after 6 years. The program should use the format method to display \n",
    "the outputs.\n",
    "Enter future value: 10000\n",
    "Enter interest rate (as %): 4\n",
    "Enter number of years: 6\n",
    "Present value: $7,903.15"
   ]
  },
  {
   "cell_type": "code",
   "execution_count": 14,
   "metadata": {},
   "outputs": [
    {
     "name": "stdout",
     "output_type": "stream",
     "text": [
      "What you don't owe won't hurt you.\n"
     ]
    }
   ],
   "source": [
    "# #What you don't know won't hurt you.\n",
    "# sentence = \"What you don't know won't hurt you.\" #input(\"Enter a sentence: \")\n",
    "# word1 = \"know\"#input(\"Enter word to replace: \")\n",
    "# word2 = \"owe\"#input(\"Enter replacement word: \")\n",
    "\n",
    "# words = sentence.split(\" \")\n",
    "\n",
    "# replaced = []\n",
    "# for word in words:\n",
    "#     if word == word1:\n",
    "#         word == word2\n",
    "#     replaced.append(word)    \n",
    "# #replaced = sentence.replace(word1,word2)\n",
    "# replaced = \" \".join(replaced)\n",
    "# print(replaced)\n",
    "\n",
    "sentence = \"What you don't know won't hurt you.\"\n",
    "word1 = \"know\"\n",
    "word2 = \"owe\"\n",
    "\n",
    "words = sentence.split(\" \")\n",
    "replaced = []\n",
    "for word in words:\n",
    "    if word == word1:\n",
    "        word = word2\n",
    "    replaced.append(word)\n",
    "\n",
    "replaced = \" \".join(replaced)\n",
    "print(replaced)   "
   ]
  },
  {
   "cell_type": "code",
   "execution_count": 15,
   "metadata": {},
   "outputs": [
    {
     "name": "stdout",
     "output_type": "stream",
     "text": [
      "Present value: $7,903.15\n"
     ]
    }
   ],
   "source": [
    "# Enter future value: 10000\n",
    "# Enter interest rate (as %): 4\n",
    "# Enter number of years: 6\n",
    "# Present value: $7,903.15\n",
    "\n",
    "v = eval(input('Enter future value:'))\n",
    "rate = eval(input('Enter interest rate (as %):'))\n",
    "year = eval(input('Enter number of years:'))\n",
    "result = v/((1 + (rate / 100))**year) \n",
    "print(f'Present value: ${result:,.2f}')"
   ]
  },
  {
   "cell_type": "code",
   "execution_count": 18,
   "metadata": {},
   "outputs": [
    {
     "name": "stdout",
     "output_type": "stream",
     "text": [
      "['mango', 'lemon', 'orange']\n",
      "['mango', 'lemon', 'orange']\n",
      "['apple', 'mango', 'lemon', 'orange']\n"
     ]
    }
   ],
   "source": [
    "shopList = [\"apple\",\"mango\",\"lemon\",\"orange\"]\n",
    "myList = shopList\n",
    "copyLsit = shopList[:] #카피하는 결과\n",
    "\n",
    "del myList[0]\n",
    "print(shopList)\n",
    "print(myList)\n",
    "print(copyLsit)\n"
   ]
  }
 ],
 "metadata": {
  "kernelspec": {
   "display_name": "Python 3",
   "language": "python",
   "name": "python3"
  },
  "language_info": {
   "codemirror_mode": {
    "name": "ipython",
    "version": 3
   },
   "file_extension": ".py",
   "mimetype": "text/x-python",
   "name": "python",
   "nbconvert_exporter": "python",
   "pygments_lexer": "ipython3",
   "version": "3.11.4"
  },
  "orig_nbformat": 4
 },
 "nbformat": 4,
 "nbformat_minor": 2
}
