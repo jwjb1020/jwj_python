{
 "cells": [
  {
   "attachments": {},
   "cell_type": "markdown",
   "metadata": {},
   "source": [
    "# 연습문제<br>\n",
    "• data = {\"Sun\": 0, \"Mon\": 1, \"Tue\": 2, \"Wed\": 3, \"Thu\": 4, \"Fri\": 5, \"Sat\": 6} 이\n",
    "주어질 때 try-except문을 이용하여 다음과 같이 동작하는 프로그램을 작성 \n",
    "하라.<br>\n",
    "– 사용자로부터 문자열을 입력 받는다 <br>\n",
    "– 문자열이 data의 key와 같으면 value를 출력하고 다시 문자열을 입력 받는다<br>\n",
    "– 문자열 에 해당하는 key가 없으면 \"항목이 없습니다\"라는 메시지를 출력하고 종료한다.<br>\n",
    "• 위 문제를 try-except를 이용하지 않고 프로그램할 수 있는가? 차이점은 무엇인가?<br>"
   ]
  },
  {
   "attachments": {},
   "cell_type": "markdown",
   "metadata": {},
   "source": [
    "# try - exception 문을 사용하지 않았을때"
   ]
  },
  {
   "cell_type": "code",
   "execution_count": 2,
   "metadata": {},
   "outputs": [
    {
     "name": "stdout",
     "output_type": "stream",
     "text": [
      "항목이 없습니다.\n"
     ]
    }
   ],
   "source": [
    "data = {\"Sun\": 0, \"Mon\": 1, \"Tue\": 2, \"Wed\": 3, \"Thu\": 4, \"Fri\": 5, \"Sat\": 6}\n",
    "while True:\n",
    "    day = input(\"날짜를 입력해주세요\")\n",
    "    value = data.get(day)\n",
    "    if value is not None:\n",
    "        print(value)\n",
    "    else:\n",
    "        print(\"항목이 없습니다.\")    \n",
    "        break\n",
    "           "
   ]
  },
  {
   "attachments": {},
   "cell_type": "markdown",
   "metadata": {},
   "source": [
    "# 사용했을때"
   ]
  },
  {
   "cell_type": "code",
   "execution_count": 1,
   "metadata": {},
   "outputs": [
    {
     "name": "stdout",
     "output_type": "stream",
     "text": [
      "항목이 없습니다. '123'\n"
     ]
    }
   ],
   "source": [
    "data = {\"Sun\": 0, \"Mon\": 1, \"Tue\": 2, \"Wed\": 3, \"Thu\": 4, \"Fri\": 5, \"Sat\": 6}\n",
    "while True:\n",
    "    try:\n",
    "        day = input(\"날짜를 입력해주세요\")\n",
    "        value = data[day]\n",
    "    except Exception as e:\n",
    "        print(f\"항목이 없습니다. {e}\")\n",
    "        break\n",
    "    else:  \n",
    "        print(value) \n",
    "        "
   ]
  }
 ],
 "metadata": {
  "kernelspec": {
   "display_name": "Python 3",
   "language": "python",
   "name": "python3"
  },
  "language_info": {
   "codemirror_mode": {
    "name": "ipython",
    "version": 3
   },
   "file_extension": ".py",
   "mimetype": "text/x-python",
   "name": "python",
   "nbconvert_exporter": "python",
   "pygments_lexer": "ipython3",
   "version": "3.11.3"
  },
  "orig_nbformat": 4
 },
 "nbformat": 4,
 "nbformat_minor": 2
}
