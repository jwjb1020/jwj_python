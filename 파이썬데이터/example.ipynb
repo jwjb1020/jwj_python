{
 "cells": [
  {
   "cell_type": "code",
   "execution_count": 8,
   "metadata": {},
   "outputs": [
    {
     "name": "stdout",
     "output_type": "stream",
     "text": [
      "The Gettysburg aAddress contains 268 words\n",
      "The Gettysburg Address contains 139 different words\n",
      "\n",
      "The most common words and their frequencies are:\n",
      "   that: 13\n",
      "   the: 11\n",
      "   we: 10\n",
      "   to: 8\n",
      "   here: 8\n",
      "   a: 7\n",
      "   and: 6\n"
     ]
    }
   ],
   "source": [
    "def main():\n",
    "    listOfWords= formListOfwords(\"Gettysburg.txt\")\n",
    "    freq = createFrequencyDictionary(listOfWords)\n",
    "    displayWordCount(listOfWords, freq)\n",
    "    displayMostCommonWords(freq)\n",
    "\n",
    "def formListOfwords(filename):\n",
    "    infile = open(filename)\n",
    "    originalLine = infile.readline().lower()\n",
    "    line = \" \"\n",
    "    for ch in originalLine:\n",
    "        if(\"a\"<=ch<=\"z\") or (ch==\" \"):\n",
    "            line +=ch\n",
    "    listOfwords = line.split()\n",
    "    return listOfwords    \n",
    "\n",
    "def createFrequencyDictionary(listOfWords):\n",
    "    freq = {}\n",
    "    for word in listOfWords:\n",
    "        freq[word] = 0\n",
    "    for word in listOfWords:\n",
    "        freq[word] = freq[word] + 1\n",
    "    return freq\n",
    "\n",
    "def displayWordCount(listOfWords, freq):\n",
    "    print(\"The Gettysburg aAddress contains\",len(listOfWords),\"words\")\n",
    "    print(\"The Gettysburg Address contains\",len(freq),\"different words\")\n",
    "    print()\n",
    "    \n",
    "def displayMostCommonWords(freq):\n",
    "    print(\"The most common words and their frequencies are:\")\n",
    "    listOfMostCommonWords = []\n",
    "    for word in freq.keys():\n",
    "        if freq[word] >=6:\n",
    "            listOfMostCommonWords.append((word, freq[word])) \n",
    "    listOfMostCommonWords.sort(key=lambda x: x[1],reverse=True)\n",
    "    for item in listOfMostCommonWords:\n",
    "        print(\"  \", item[0] + \":\", item[1])\n",
    "main()                               "
   ]
  },
  {
   "cell_type": "code",
   "execution_count": 1,
   "metadata": {},
   "outputs": [
    {
     "name": "stdout",
     "output_type": "stream",
     "text": [
      "Enter the name of a continent China : 1,355.70\n",
      " India : 1,236.30\n",
      " Indonesia : 253.60\n",
      " Pakistan : 196.20\n",
      " Bangladesh : 166.30\n",
      " Japan : 127.10\n",
      " Philippines : 107.70\n",
      " Vietnam : 93.40\n",
      " Turkey : 81.60\n",
      " Iran : 80.80\n",
      " Thailand : 67.70\n",
      " Myanmar : 55.70\n",
      " Republic of Korea : 49.00\n",
      " Iraq : 32.60\n",
      " Afghanistan : 31.80\n",
      " Nepal : 31.00\n",
      " Malaysia : 30.10\n",
      " Uzbekistan : 28.90\n",
      " Saudi Arabia : 27.30\n",
      " Yemen : 26.10\n",
      " Democratic People's Republic of Korea : 24.90\n",
      " Sri Lanka : 22.90\n",
      " Syrian Arab Republic : 18.00\n",
      " Kazakhstan : 18.00\n",
      " Cambodia : 15.50\n",
      " Azerbaijan : 9.70\n",
      " Tajikistan : 8.10\n",
      " Jordan : 7.90\n",
      " Israel : 7.80\n",
      " Lao People's Democratic Republic : 6.80\n",
      " Lebanon : 5.90\n",
      " Singapore : 5.60\n",
      " Kyrgyzstan : 5.60\n",
      " United Arab Emirates : 5.60\n",
      " Turkmenistan : 5.10\n",
      " Georgia : 4.90\n",
      " Oman : 3.20\n",
      " Armenia : 3.10\n",
      " Mongolia : 3.00\n",
      " Kuwait : 2.70\n",
      " Qatar : 2.10\n",
      " Bahrain : 1.30\n",
      " Timor-Leste : 1.20\n",
      " Cyprus : 1.20\n",
      " Bhutan : 0.73\n",
      " Brunei Darussalam : 0.42\n",
      " Maldives : 0.39\n"
     ]
    }
   ],
   "source": [
    "import pickle\n",
    "def main():\n",
    "    nations = getDictionary(\"UNDict.dat\")\n",
    "    print(\"Enter the name of a continent\",end=\"\")\n",
    "    continent= input(\"other than Antarctica: \")\n",
    "    continentDict = constructContinentNations(nations, continent)\n",
    "    displaySortedResults(continentDict)\n",
    "\n",
    "def getDictionary(fileName):\n",
    "    infile = open(fileName, \"rb\")\n",
    "    countries = pickle.load(infile)\n",
    "    infile.close()\n",
    "    return countries\n",
    "def constructContinentNations(nations, continent):\n",
    "    continentDict = {}\n",
    "    for nation in nations:\n",
    "        if nations[nation][\"cont\"] == continent:\n",
    "            continentDict[nation] = nations[nation]\n",
    "    return continentDict\n",
    "\n",
    "def displaySortedResults(dictionaryName):\n",
    "    continentList = sorted(dictionaryName.items(),\n",
    "                           key= lambda k : k[1][\"popl\"],reverse=True)\n",
    "    for k in continentList:\n",
    "        print(\" {0:s} : {1:,.2f}\".format(k[0],k[1][\"popl\"]))\n",
    "main()\n",
    "                    "
   ]
  },
  {
   "cell_type": "markdown",
   "metadata": {},
   "source": [
    "Alphabetical Order The following words have three consecutive letters that <br>\n",
    "are also consecutive letters in the alphabet: THIRSTY, NOPE, <br>\n",
    "AFGHANISTAN, STUDENT. Write a program that accepts a word as input <br>\n",
    "and determines whether or not it has three consecutive letters that are <br>\n",
    "consecutive letters in the alphabet. The program should use a Boolean-valued <br>\n",
    "function named isTripleConsecutive that accepts an entire word as input. <br>Hint:\n",
    "Use the ord "
   ]
  },
  {
   "cell_type": "code",
   "execution_count": 5,
   "metadata": {},
   "outputs": [
    {
     "name": "stdout",
     "output_type": "stream",
     "text": [
      "dasdfa doesn't contain three successive letters in consecutive alphabetical order.\n"
     ]
    }
   ],
   "source": [
    "def main():\n",
    "    word = wordInput()\n",
    "    result = isTripleConsecutive(word)\n",
    "    view(word,result)\n",
    "def wordInput():\n",
    "    words = input(\"Enter a word\")\n",
    "    return words\n",
    "\n",
    "def isTripleConsecutive(word):\n",
    "    for i in range(len(word) - 2):\n",
    "        if (ord(word[i]) == ord(word[i+1]) - 1) and (ord(word[i]) == ord(word[i+2]) - 2):\n",
    "            return True\n",
    "    return False\n",
    "def view(word, result):\n",
    "    if result:\n",
    "        print(f\"{word} contains three successive letters in consecutive alphabetical order.\")\n",
    "    else:\n",
    "        print(f\"{word} doesn't contain three successive letters in consecutive alphabetical order.\")    \n",
    "main()"
   ]
  },
  {
   "cell_type": "markdown",
   "metadata": {},
   "source": [
    "1. Unit Conversions The following table contains some lengths in terms of feet. <br>\n",
    "Write a program that displays the nine different units of measure; requests the <br>\n",
    "unit to convert from, the unit to convert to, and the quantity to be converted; <br>\n",
    "and then displays the converted quantity. A typical outcome is shown in the <br>\n",
    "shaded box below. Use the file Units.txt to create a dictionary that <br>\n",
    "provides the number of feet for a given unit of length. The first two lines of <br>\n",
    "the file are inches,.083333; furlongs,660."
   ]
  },
  {
   "cell_type": "code",
   "execution_count": 17,
   "metadata": {},
   "outputs": [
    {
     "name": "stdout",
     "output_type": "stream",
     "text": [
      "UNITS OF LENGTH\n",
      "inches         furlongs       yards          \n",
      "fathoms        feet           kilometers     \n",
      "meters         miles          rods           \n",
      "Converted length: 0.0019412801136363636\n"
     ]
    }
   ],
   "source": [
    "def main():\n",
    "    units = getUnits(\"Units.txt\")\n",
    "    showUnits(units)\n",
    "    unit1, unit2, length = getInput()\n",
    "    result = convertUnits(unit1, unit2, length, units)\n",
    "    print(f\"Converted length: {result}\")\n",
    "\n",
    "def getInput():\n",
    "    unit1 = input(\"Enter the unit: \")\n",
    "    unit2 = input(\"Enter the unit you want to convert: \")\n",
    "    length = float(input(\"Enter the length to convert: \"))\n",
    "    return unit1, unit2, length\n",
    "\n",
    "def getUnits(fileName):\n",
    "    units = {}\n",
    "    with open(fileName, \"r\") as infile:\n",
    "        for line in infile:\n",
    "            name, value = line.split(\",\")\n",
    "            units[name] = float(value)\n",
    "    return units\n",
    "\n",
    "def showUnits(units):\n",
    "    print(\"UNITS OF LENGTH\")\n",
    "    for i, word in enumerate(units):\n",
    "        print(\"{:<15}\".format(word), end=\"\")\n",
    "        if (i+1) % 3 == 0:\n",
    "            print()\n",
    "\n",
    "def convertUnits(unit1, unit2, length, dict_unit):\n",
    "    value1 = dict_unit.get(unit1, 1)\n",
    "    value2 = dict_unit.get(unit2, 1)\n",
    "    return length * float(value1) / float(value2)\n",
    "\n",
    "main()\n"
   ]
  },
  {
   "cell_type": "code",
   "execution_count": 18,
   "metadata": {},
   "outputs": [
    {
     "name": "stdout",
     "output_type": "stream",
     "text": [
      "\n"
     ]
    }
   ],
   "source": [
    "try:\n",
    "    num = int(input(\"Enter a number\"))\n",
    "    print(\"Entered number: {}\".format(num))\n",
    "except :\n",
    "    print()    "
   ]
  },
  {
   "cell_type": "code",
   "execution_count": 6,
   "metadata": {},
   "outputs": [
    {
     "name": "stdout",
     "output_type": "stream",
     "text": [
      "[Errno 2] No such file or directory: 'dfd.txt'\n"
     ]
    },
    {
     "ename": "UnboundLocalError",
     "evalue": "cannot access local variable 'infile' where it is not associated with a value",
     "output_type": "error",
     "traceback": [
      "\u001b[1;31m---------------------------------------------------------------------------\u001b[0m",
      "\u001b[1;31mUnboundLocalError\u001b[0m                         Traceback (most recent call last)",
      "Cell \u001b[1;32mIn[6], line 17\u001b[0m\n\u001b[0;32m     15\u001b[0m         infile\u001b[39m.\u001b[39mclose()\n\u001b[0;32m     16\u001b[0m         \u001b[39mprint\u001b[39m(\u001b[39m\"\u001b[39m\u001b[39mtry\u001b[39m\u001b[39m\"\u001b[39m)    \n\u001b[1;32m---> 17\u001b[0m main()                \n",
      "Cell \u001b[1;32mIn[6], line 15\u001b[0m, in \u001b[0;36mmain\u001b[1;34m()\u001b[0m\n\u001b[0;32m     13\u001b[0m     \u001b[39mprint\u001b[39m(\u001b[39m\"\u001b[39m\u001b[39mno error\u001b[39m\u001b[39m\"\u001b[39m)    \n\u001b[0;32m     14\u001b[0m \u001b[39mfinally\u001b[39;00m:\n\u001b[1;32m---> 15\u001b[0m     infile\u001b[39m.\u001b[39mclose()\n\u001b[0;32m     16\u001b[0m     \u001b[39mprint\u001b[39m(\u001b[39m\"\u001b[39m\u001b[39mtry\u001b[39m\u001b[39m\"\u001b[39m)\n",
      "\u001b[1;31mUnboundLocalError\u001b[0m: cannot access local variable 'infile' where it is not associated with a value"
     ]
    }
   ],
   "source": [
    "#num.txt\n",
    "def main():\n",
    "    try:\n",
    "        fileName = input(\"Enter the name of a file\")\n",
    "        infile =open(fileName,\"r\")\n",
    "        num = float(infile.readline())\n",
    "        print(1/num)\n",
    "    except FileNotFoundError as exc1:\n",
    "        print(exc1)\n",
    "    except TypeError as exc2:\n",
    "        print(exc2)\n",
    "    else:\n",
    "        print(\"no error\")    \n",
    "    finally:\n",
    "        infile.close()\n",
    "        print(\"try\")    \n",
    "main()                "
   ]
  },
  {
   "cell_type": "code",
   "execution_count": 81,
   "metadata": {},
   "outputs": [
    {
     "name": "stdout",
     "output_type": "stream",
     "text": [
      "a:124900 (0.2498)\n",
      "d:74659 (0.149318)\n",
      "c:124632 (0.249264)\n",
      "b:125562 (0.251124)\n",
      "e:25317 (0.050634)\n",
      "None:24930 (0.04986)\n"
     ]
    }
   ],
   "source": [
    "import random\n",
    "def main():\n",
    "    num = 500000\n",
    "    cnt ={}\n",
    "    for _ in range(num):\n",
    "        outcome = spinWheel()\n",
    "        cnt[outcome] = cnt.get(outcome,0)+1\n",
    "    for k,v in cnt.items():\n",
    "        print(\"{}:{} ({})\".format(k,v,v/num))    \n",
    "\n",
    "def spinWheel():\n",
    "    n = random.randint(1,20)\n",
    "    if n >15:\n",
    "        return \"a\"\n",
    "    elif n>10:\n",
    "        return \"b\"\n",
    "    elif n>5:\n",
    "        return \"c\"\n",
    "    elif n>2:\n",
    "        return \"d\"\n",
    "    elif n>1:\n",
    "        return \"e\"\n",
    "    \n",
    "main()            "
   ]
  },
  {
   "cell_type": "markdown",
   "metadata": {},
   "source": [
    "Exercises 6.2\n",
    "Write lines of code to carry out the stated task. Note that the random module \n",
    "has to be imported.\n",
    "9. Alphabet Display three letters selected at random from the alphabet.\n",
    "13. Coin Toss a coin 100 times and display the number of times that a \n",
    "“Head” occurs.\n",
    "17. Matching Cards Suppose two shuffled decks of cards are placed on a table, \n",
    "and then cards are drawn from the tops of the decks one at a time and \n",
    "compared. On average, how many matches do you think will occur? Write a \n",
    "program to carry out this process 10,000 times and calculate the average \n",
    "number of matches that occur. A possible output is shown in the shaded box \n",
    "below.\n",
    "The average number of cards\n",
    "that matched was 1.013"
   ]
  },
  {
   "cell_type": "code",
   "execution_count": 12,
   "metadata": {},
   "outputs": [
    {
     "name": "stdout",
     "output_type": "stream",
     "text": [
      "['z', 'k', 'v'] ['y', 'o', 'j'] ['M', 'I', 'H']\n"
     ]
    }
   ],
   "source": [
    "import random\n",
    "import string\n",
    "\n",
    "def randomChoice():\n",
    "    list_alphabet = \"abcdefghijklmnopqrstuvwxyz\"\n",
    "    c= random.sample(string.ascii_lowercase,3) #중복허용 x\n",
    "    s = [chr(random.randint(ord(\"A\"),ord(\"Z\"))) for _ in range(3)]\n",
    "    n = 3\n",
    "    R = random.sample(list_alphabet,n)\n",
    "    \n",
    "    return print(R,c,s)\n",
    "\n",
    "def main():\n",
    "    randomChoice()\n",
    "\n",
    "main()    \n",
    "    \n",
    "    "
   ]
  },
  {
   "cell_type": "code",
   "execution_count": 66,
   "metadata": {},
   "outputs": [
    {
     "name": "stdout",
     "output_type": "stream",
     "text": [
      "heads:53\n"
     ]
    }
   ],
   "source": [
    "cnt = 0\n",
    "\n",
    "for _ in range(100):\n",
    "    if random.choice([\"h\",\"t\"]) == \"h\":\n",
    "        cnt +=1\n",
    "print(\"heads:{}\".format(cnt) )        "
   ]
  },
  {
   "cell_type": "code",
   "execution_count": 67,
   "metadata": {},
   "outputs": [
    {
     "name": "stdout",
     "output_type": "stream",
     "text": [
      "8\n"
     ]
    }
   ],
   "source": [
    "def power(r,n):\n",
    "    if n==1:\n",
    "        return r\n",
    "    else:\n",
    "        return r * power(r,n-1)\n",
    "print(power(2,3))    "
   ]
  },
  {
   "cell_type": "markdown",
   "metadata": {},
   "source": [
    "7. Alphabetical Order The following iterative function determines whether a list <br>\n",
    "of lowercase words is in alphabetical order. Write the equivalent recursive <br>\n",
    "function.<br>\n",
    "def isAlpha(L):<br>\n",
    " ## Determine whether list of lowercase words is in\n",
    "## alphabetical order.\n",
    " for i in range(len(L) - 1):<br>\n",
    " if L[i] > L[i + 1]:<br>\n",
    " return False<br>\n",
    " return True<br>"
   ]
  },
  {
   "cell_type": "code",
   "execution_count": 69,
   "metadata": {},
   "outputs": [
    {
     "name": "stdout",
     "output_type": "stream",
     "text": [
      "True\n",
      "False\n"
     ]
    }
   ],
   "source": [
    "def isAlpha(L):\n",
    "    for i in range(len(L)-1):\n",
    "        if L[i] > L[i+1]:\n",
    "            return False\n",
    "    return True\n",
    "\n",
    "wordList = [\"apple\",\"banana\",\"cat\",\"dog\"]\n",
    "wordList2 = [\"apple\",\"goat\",\"banana\",\"cat\",\"dog\"]\n",
    "print(isAlpha(wordList))    \n",
    "print(isAlpha(wordList2))"
   ]
  },
  {
   "cell_type": "code",
   "execution_count": 70,
   "metadata": {},
   "outputs": [
    {
     "name": "stdout",
     "output_type": "stream",
     "text": [
      "True\n"
     ]
    }
   ],
   "source": [
    "def isAlpha(L):\n",
    "    if len(L) <= 1:  # 기저 사례: 리스트의 길이가 1 이하일 경우, 항상 알파벳 순서에 맞다고 판단하여 True를 반환합니다.\n",
    "        return True\n",
    "    elif L[0] > L[1]:  # 만약 첫 번째 단어가 두 번째 단어보다 큰 경우, 리스트는 알파벳 순서에 맞지 않으므로 False를 반환합니다.\n",
    "        return False\n",
    "    else:\n",
    "        return isAlpha(L[1:])  # 나머지 부분 리스트에 대해 재귀적으로 함수를 호출합니다.\n",
    "\n",
    "# 예시 사용법:\n",
    "wordList = ['apple', 'banana', 'cat', 'dog']\n",
    "print(isAlpha(wordList))  # 출력: True"
   ]
  },
  {
   "cell_type": "markdown",
   "metadata": {},
   "source": [
    "8. Sequence of Numbers The following iterative function displays a sequence of <br>\n",
    "numbers. Write the equivalent recursive function.<br>\n",
    "def displaySequenceOfNumbers(m, n):<br>\n",
    " ## Display the numbers from m to n, where m <= n.\n",
    " while m <= n:<br>\n",
    " print(m)<br>\n",
    " m = m + 1<br>"
   ]
  },
  {
   "cell_type": "code",
   "execution_count": 71,
   "metadata": {},
   "outputs": [
    {
     "name": "stdout",
     "output_type": "stream",
     "text": [
      "0\n",
      "1\n",
      "2\n",
      "3\n",
      "4\n"
     ]
    }
   ],
   "source": [
    "def displaySequenceOfNumbers(m,n):\n",
    "    while m <=n:\n",
    "        print(m)\n",
    "        m=m+1\n",
    "displaySequenceOfNumbers(0,4)        "
   ]
  },
  {
   "cell_type": "code",
   "execution_count": 73,
   "metadata": {},
   "outputs": [],
   "source": [
    "def displaySequenceOfNumbers2(m,n):\n",
    "    if m>n:\n",
    "        return\n",
    "    else:\n",
    "        print(m)\n",
    "        displaySequenceOfNumbers2(m+1,n)\n",
    "\n",
    "displaySequenceOfNumbers2(15,4)        \n",
    "        "
   ]
  },
  {
   "cell_type": "code",
   "execution_count": 80,
   "metadata": {},
   "outputs": [
    {
     "name": "stdout",
     "output_type": "stream",
     "text": [
      "Width: 4\n",
      "Height: 5\n",
      "Width: 1\n",
      "Height: 1\n",
      "Width: 4\n",
      "Height: 1\n"
     ]
    }
   ],
   "source": [
    "class Rectangle:\n",
    "    def __init__(self, width =1, heigth=1):\n",
    "        self._width = width\n",
    "        self._heigth = heigth\n",
    "    \n",
    "    def setWidth(self, width):\n",
    "        self._width = width\n",
    "    \n",
    "    def setHeight(self, height):\n",
    "        self._heigth(height)\n",
    "        \n",
    "    def area(self):\n",
    "        return self._width * self._heigth\n",
    "    \n",
    "    def perimeter(self):\n",
    "        return 2 * (self._width + self._heigth)\n",
    "    \n",
    "    def __str__(self):\n",
    "        return(\"Width: \"+str(self._width) + \"\\nHeight: \" + str(self._heigth))\n",
    "    \n",
    "r = Rectangle(4,5)\n",
    "print(r)\n",
    "\n",
    "r = Rectangle()\n",
    "print(r)\n",
    "\n",
    "r = Rectangle(4)\n",
    "print(r)    \n",
    "\n",
    "                "
   ]
  },
  {
   "cell_type": "code",
   "execution_count": 81,
   "metadata": {},
   "outputs": [],
   "source": [
    "class Student:\n",
    "    def __init__(self, name=\"\", midterm=0, final=0):\n",
    "        self._name = name\n",
    "        self._midterm = midterm\n",
    "        self._final = final\n",
    "      \n",
    "    def setName(self, name):\n",
    "        self._name = name\n",
    "\n",
    "    def setMidterm(self, midterm):\n",
    "        self._midterm = midterm\n",
    "\n",
    "    def setFinal(self, final):\n",
    "        self._final = final\n",
    "\n",
    "    def getName(self):\n",
    "        return self._name     \n",
    "\n",
    "       \n",
    "class LGstudent(Student):\n",
    "    def calcSemGrade(self):\n",
    "        average = round((self._midterm + self._final) / 2)\n",
    "        if average >= 90:\n",
    "            return \"A\"\n",
    "        elif average >= 80:\n",
    "            return \"B\"\n",
    "        elif average >= 70:\n",
    "            return \"C\"\n",
    "        elif average >= 60:\n",
    "            return \"D\"\n",
    "        else:\n",
    "            return \"F\"\n",
    "\n",
    "    def __str__(self):\n",
    "        return (self._name + \"\\t\" + self.calcSemGrade() +\n",
    "               \"\\tFull-time student\")\n",
    "\n",
    "\n",
    "class PFstudent(Student):\n",
    "    def __init__(self, name=\"\", midterm=0, final=0, fullTime=True):\n",
    "        super().__init__(name, midterm, final)\n",
    "        self._fullTime = fullTime\n",
    "\n",
    "    def setFullTime(self, fullTime):\n",
    "        self._fullTime = fullTime\n",
    "\n",
    "    def getFullTime(self):\n",
    "        return self._fullTime\n",
    "        \n",
    "    def calcSemGrade(self):\n",
    "        average = round((self._midterm + self._final) / 2)\n",
    "        if average >= 60:\n",
    "            return \"Pass\"\n",
    "        else:\n",
    "            return \"Fail\"\n",
    "\n",
    "    def __str__(self):\n",
    "        if self._fullTime:\n",
    "            status = \"Full-time student\"\n",
    "        else:\n",
    "            status = \"Part-time student\"                \n",
    "        return (self._name + \"\\t\" + self.calcSemGrade()\n",
    "                 + \"\\t\" + status)\n",
    "\n",
    "\n"
   ]
  }
 ],
 "metadata": {
  "kernelspec": {
   "display_name": "Python 3",
   "language": "python",
   "name": "python3"
  },
  "language_info": {
   "codemirror_mode": {
    "name": "ipython",
    "version": 3
   },
   "file_extension": ".py",
   "mimetype": "text/x-python",
   "name": "python",
   "nbconvert_exporter": "python",
   "pygments_lexer": "ipython3",
   "version": "3.11.4"
  },
  "orig_nbformat": 4
 },
 "nbformat": 4,
 "nbformat_minor": 2
}
