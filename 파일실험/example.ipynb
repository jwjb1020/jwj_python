{
 "cells": [
  {
   "cell_type": "code",
   "execution_count": 1,
   "metadata": {},
   "outputs": [
    {
     "name": "stdout",
     "output_type": "stream",
     "text": [
      "안녕하세요.\n",
      "저는 조원준입니다.\n",
      "\n"
     ]
    }
   ],
   "source": [
    "file = open(\"example.txt\",\"r+\",encoding=\"utf-8\")\n",
    "content = file.read()\n",
    "print(content)\n",
    "file.close()"
   ]
  },
  {
   "cell_type": "markdown",
   "metadata": {},
   "source": [
    "26. Count Function Suppose the count function for a string didn’t exist. Define \n",
    "a function that returns the number of non-overlapping occurrences of a \n",
    "substring in a string."
   ]
  },
  {
   "cell_type": "code",
   "execution_count": 17,
   "metadata": {},
   "outputs": [
    {
     "name": "stdout",
     "output_type": "stream",
     "text": [
      "4\n"
     ]
    }
   ],
   "source": [
    "def count_substring(string, substring):\n",
    "    count = 0\n",
    "    index = 0\n",
    "\n",
    "    while index < len(string):\n",
    "        if string[index:index + len(substring)] == substring:\n",
    "            count += 1\n",
    "            index += len(substring)\n",
    "        else:\n",
    "            index += 1\n",
    "\n",
    "    return count\n",
    "\n",
    "string = \"asdfarq asdfasgwefdfcfaqrsdf\"\n",
    "substring = \"df\"\n",
    "st=count_substring(string,substring)\n",
    "print(st)"
   ]
  },
  {
   "cell_type": "markdown",
   "metadata": {},
   "source": [
    "30. Pay Raise Write a pay-raise program that requests a person’s first name, <br>\n",
    "last name, and current annual salary, and then displays the person’s salary for <br>\n",
    "next year. People earning less than $40,000 will receive a 5% raise, and those <br>\n",
    "earning $40,000 or more will receive a raise of $2,000 plus 2% of the amount <br>\n",
    "over $40,000. Use functions for input and output, and a function to calculate <br>\n",
    "the new salary.<br>\n",
    "Enter first name: John<br>\n",
    "Enter last name: Doe<br>\n",
    "Enter current salary: 48000<br>\n",
    "New salary for John Doe: $50,160.00<br>"
   ]
  },
  {
   "cell_type": "code",
   "execution_count": 18,
   "metadata": {},
   "outputs": [
    {
     "name": "stdout",
     "output_type": "stream",
     "text": [
      "New salary for j w : 50160.0\n"
     ]
    }
   ],
   "source": [
    "def payRaise():\n",
    "    first = input(\"Enter the first name\")\n",
    "    last = input(\"Enter the last name\")\n",
    "    salary = eval(input(\"Enter current salary\"))\n",
    "    salary_out = 0\n",
    "    if salary < 40000:\n",
    "        salary_out = salary + (salary * 0.05)\n",
    "    else:\n",
    "        salary_out = salary + 2000 + ((salary-40000) * 0.02  )  \n",
    "    \n",
    "    return print(f\"New salary for {first} {last} : {salary_out}\")\n",
    "\n",
    "payRaise()\n",
    "    "
   ]
  },
  {
   "cell_type": "code",
   "execution_count": 2,
   "metadata": {},
   "outputs": [
    {
     "ename": "FileNotFoundError",
     "evalue": "[Errno 2] No such file or directory: 'Gettysburg.txt'",
     "output_type": "error",
     "traceback": [
      "\u001b[1;31m---------------------------------------------------------------------------\u001b[0m",
      "\u001b[1;31mFileNotFoundError\u001b[0m                         Traceback (most recent call last)",
      "Cell \u001b[1;32mIn[2], line 39\u001b[0m\n\u001b[0;32m     37\u001b[0m     \u001b[39mfor\u001b[39;00m item \u001b[39min\u001b[39;00m listOfMostCommonWords:\n\u001b[0;32m     38\u001b[0m         \u001b[39mprint\u001b[39m(\u001b[39m\"\u001b[39m\u001b[39m  \u001b[39m\u001b[39m\"\u001b[39m, item[\u001b[39m0\u001b[39m] \u001b[39m+\u001b[39m \u001b[39m\"\u001b[39m\u001b[39m:\u001b[39m\u001b[39m\"\u001b[39m, item[\u001b[39m1\u001b[39m])\n\u001b[1;32m---> 39\u001b[0m main()                               \n",
      "Cell \u001b[1;32mIn[2], line 2\u001b[0m, in \u001b[0;36mmain\u001b[1;34m()\u001b[0m\n\u001b[0;32m      1\u001b[0m \u001b[39mdef\u001b[39;00m \u001b[39mmain\u001b[39m():\n\u001b[1;32m----> 2\u001b[0m     listOfWords\u001b[39m=\u001b[39m formListOfwords(\u001b[39m\"\u001b[39;49m\u001b[39mGettysburg.txt\u001b[39;49m\u001b[39m\"\u001b[39;49m)\n\u001b[0;32m      3\u001b[0m     freq \u001b[39m=\u001b[39m createFrequencyDictionary(listOfWords)\n\u001b[0;32m      4\u001b[0m     displayWordCount(listOfWords, freq)\n",
      "Cell \u001b[1;32mIn[2], line 8\u001b[0m, in \u001b[0;36mformListOfwords\u001b[1;34m(filename)\u001b[0m\n\u001b[0;32m      7\u001b[0m \u001b[39mdef\u001b[39;00m \u001b[39mformListOfwords\u001b[39m(filename):\n\u001b[1;32m----> 8\u001b[0m     infile \u001b[39m=\u001b[39m \u001b[39mopen\u001b[39;49m(filename)\n\u001b[0;32m      9\u001b[0m     originalLine \u001b[39m=\u001b[39m infile\u001b[39m.\u001b[39mreadline()\u001b[39m.\u001b[39mlower()\n\u001b[0;32m     10\u001b[0m     line \u001b[39m=\u001b[39m \u001b[39m\"\u001b[39m\u001b[39m \u001b[39m\u001b[39m\"\u001b[39m\n",
      "File \u001b[1;32m~\\AppData\\Roaming\\Python\\Python311\\site-packages\\IPython\\core\\interactiveshell.py:284\u001b[0m, in \u001b[0;36m_modified_open\u001b[1;34m(file, *args, **kwargs)\u001b[0m\n\u001b[0;32m    277\u001b[0m \u001b[39mif\u001b[39;00m file \u001b[39min\u001b[39;00m {\u001b[39m0\u001b[39m, \u001b[39m1\u001b[39m, \u001b[39m2\u001b[39m}:\n\u001b[0;32m    278\u001b[0m     \u001b[39mraise\u001b[39;00m \u001b[39mValueError\u001b[39;00m(\n\u001b[0;32m    279\u001b[0m         \u001b[39mf\u001b[39m\u001b[39m\"\u001b[39m\u001b[39mIPython won\u001b[39m\u001b[39m'\u001b[39m\u001b[39mt let you open fd=\u001b[39m\u001b[39m{\u001b[39;00mfile\u001b[39m}\u001b[39;00m\u001b[39m by default \u001b[39m\u001b[39m\"\u001b[39m\n\u001b[0;32m    280\u001b[0m         \u001b[39m\"\u001b[39m\u001b[39mas it is likely to crash IPython. If you know what you are doing, \u001b[39m\u001b[39m\"\u001b[39m\n\u001b[0;32m    281\u001b[0m         \u001b[39m\"\u001b[39m\u001b[39myou can use builtins\u001b[39m\u001b[39m'\u001b[39m\u001b[39m open.\u001b[39m\u001b[39m\"\u001b[39m\n\u001b[0;32m    282\u001b[0m     )\n\u001b[1;32m--> 284\u001b[0m \u001b[39mreturn\u001b[39;00m io_open(file, \u001b[39m*\u001b[39;49margs, \u001b[39m*\u001b[39;49m\u001b[39m*\u001b[39;49mkwargs)\n",
      "\u001b[1;31mFileNotFoundError\u001b[0m: [Errno 2] No such file or directory: 'Gettysburg.txt'"
     ]
    }
   ],
   "source": [
    "def main():\n",
    "    listOfWords= formListOfwords(\"Gettysburg.txt\")\n",
    "    freq = createFrequencyDictionary(listOfWords)\n",
    "    displayWordCount(listOfWords, freq)\n",
    "    displayMostCommonWords(freq)\n",
    "\n",
    "def formListOfwords(filename):\n",
    "    infile = open(filename)\n",
    "    originalLine = infile.readline().lower()\n",
    "    line = \" \"\n",
    "    for ch in originalLine:\n",
    "        if(\"a\"<=ch<=\"z\") or (ch==\" \"):\n",
    "            line +=ch\n",
    "    listOfwords = line.split()\n",
    "    return listOfwords    \n",
    "\n",
    "def createFrequencyDictionary(listOfWords):\n",
    "    freq = {}\n",
    "    for word in listOfWords:\n",
    "        freq[word] = 0\n",
    "    for word in listOfWords:\n",
    "        freq[word] = freq[word] + 1\n",
    "    return freq\n",
    "\n",
    "def displayWordCount(listOfWords, freq):\n",
    "    print(\"The Gettysburg aAddress contains\",len(listOfWords),\"words\")\n",
    "    print(\"The Gettysburg Address contains\",len(freq),\"different words\")\n",
    "    print()\n",
    "    \n",
    "def displayMostCommonWords(freq):\n",
    "    print(\"The most common words and their frequencies are:\")\n",
    "    listOfMostCommonWords = []\n",
    "    for word in freq.keys():\n",
    "        if freq[word] >=6:\n",
    "            listOfMostCommonWords.append((word, freq[word])) \n",
    "    listOfMostCommonWords.sort(key=lambda x: x[1],reverse=True)\n",
    "    for item in listOfMostCommonWords:\n",
    "        print(\"  \", item[0] + \":\", item[1])\n",
    "main()                               "
   ]
  }
 ],
 "metadata": {
  "kernelspec": {
   "display_name": "Python 3",
   "language": "python",
   "name": "python3"
  },
  "language_info": {
   "codemirror_mode": {
    "name": "ipython",
    "version": 3
   },
   "file_extension": ".py",
   "mimetype": "text/x-python",
   "name": "python",
   "nbconvert_exporter": "python",
   "pygments_lexer": "ipython3",
   "version": "3.11.4"
  },
  "orig_nbformat": 4
 },
 "nbformat": 4,
 "nbformat_minor": 2
}
