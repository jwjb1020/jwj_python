{
 "cells": [
  {
   "cell_type": "code",
   "execution_count": 1,
   "metadata": {},
   "outputs": [
    {
     "name": "stdout",
     "output_type": "stream",
     "text": [
      "안녕하세요.\n",
      "저는 조원준입니다.\n",
      "\n"
     ]
    }
   ],
   "source": [
    "file = open(\"example.txt\",\"r+\",encoding=\"utf-8\")\n",
    "content = file.read()\n",
    "print(content)\n",
    "file.close()"
   ]
  },
  {
   "cell_type": "markdown",
   "metadata": {},
   "source": [
    "26. Count Function Suppose the count function for a string didn’t exist. Define \n",
    "a function that returns the number of non-overlapping occurrences of a \n",
    "substring in a string."
   ]
  },
  {
   "cell_type": "code",
   "execution_count": 17,
   "metadata": {},
   "outputs": [
    {
     "name": "stdout",
     "output_type": "stream",
     "text": [
      "4\n"
     ]
    }
   ],
   "source": [
    "def count_substring(string, substring):\n",
    "    count = 0\n",
    "    index = 0\n",
    "\n",
    "    while index < len(string):\n",
    "        if string[index:index + len(substring)] == substring:\n",
    "            count += 1\n",
    "            index += len(substring)\n",
    "        else:\n",
    "            index += 1\n",
    "\n",
    "    return count\n",
    "\n",
    "string = \"asdfarq asdfasgwefdfcfaqrsdf\"\n",
    "substring = \"df\"\n",
    "st=count_substring(string,substring)\n",
    "print(st)"
   ]
  },
  {
   "cell_type": "markdown",
   "metadata": {},
   "source": [
    "30. Pay Raise Write a pay-raise program that requests a person’s first name, <br>\n",
    "last name, and current annual salary, and then displays the person’s salary for <br>\n",
    "next year. People earning less than $40,000 will receive a 5% raise, and those <br>\n",
    "earning $40,000 or more will receive a raise of $2,000 plus 2% of the amount <br>\n",
    "over $40,000. Use functions for input and output, and a function to calculate <br>\n",
    "the new salary.<br>\n",
    "Enter first name: John<br>\n",
    "Enter last name: Doe<br>\n",
    "Enter current salary: 48000<br>\n",
    "New salary for John Doe: $50,160.00<br>"
   ]
  },
  {
   "cell_type": "code",
   "execution_count": 18,
   "metadata": {},
   "outputs": [
    {
     "name": "stdout",
     "output_type": "stream",
     "text": [
      "New salary for j w : 50160.0\n"
     ]
    }
   ],
   "source": [
    "def payRaise():\n",
    "    first = input(\"Enter the first name\")\n",
    "    last = input(\"Enter the last name\")\n",
    "    salary = eval(input(\"Enter current salary\"))\n",
    "    salary_out = 0\n",
    "    if salary < 40000:\n",
    "        salary_out = salary + (salary * 0.05)\n",
    "    else:\n",
    "        salary_out = salary + 2000 + ((salary-40000) * 0.02  )  \n",
    "    \n",
    "    return print(f\"New salary for {first} {last} : {salary_out}\")\n",
    "\n",
    "payRaise()\n",
    "    "
   ]
  }
 ],
 "metadata": {
  "kernelspec": {
   "display_name": "Python 3",
   "language": "python",
   "name": "python3"
  },
  "language_info": {
   "codemirror_mode": {
    "name": "ipython",
    "version": 3
   },
   "file_extension": ".py",
   "mimetype": "text/x-python",
   "name": "python",
   "nbconvert_exporter": "python",
   "pygments_lexer": "ipython3",
   "version": "3.11.4"
  },
  "orig_nbformat": 4
 },
 "nbformat": 4,
 "nbformat_minor": 2
}
