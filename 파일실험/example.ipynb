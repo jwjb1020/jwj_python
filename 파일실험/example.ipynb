{
 "cells": [
  {
   "cell_type": "code",
   "execution_count": 1,
   "metadata": {},
   "outputs": [
    {
     "name": "stdout",
     "output_type": "stream",
     "text": [
      "안녕하세요.\n",
      "저는 조원준입니다.\n",
      "\n"
     ]
    }
   ],
   "source": [
    "file = open(\"example.txt\",\"r+\",encoding=\"utf-8\")\n",
    "content = file.read()\n",
    "print(content)\n",
    "file.close()"
   ]
  },
  {
   "cell_type": "markdown",
   "metadata": {},
   "source": [
    "26. Count Function Suppose the count function for a string didn’t exist. Define \n",
    "a function that returns the number of non-overlapping occurrences of a \n",
    "substring in a string."
   ]
  },
  {
   "cell_type": "code",
   "execution_count": 7,
   "metadata": {},
   "outputs": [],
   "source": [
    "def count_substring(string, substring):\n",
    "    count = 0\n",
    "    index = 0\n",
    "\n",
    "    while index < len(string):\n",
    "        if string[index:index + len(substring)] == substring:\n",
    "            count += 1\n",
    "            index += len(substring)\n",
    "        else:\n",
    "            index += 1\n",
    "\n",
    "    return count\n",
    "\n",
    "def main():\n",
    "    string = \"asdfarq asdfasgwefdfcfaqrsdf\"\n",
    "    substring = \"df\"\n",
    "    st=count_substring(string,substring)\n",
    "    print(st)"
   ]
  },
  {
   "cell_type": "code",
   "execution_count": null,
   "metadata": {},
   "outputs": [],
   "source": []
  }
 ],
 "metadata": {
  "kernelspec": {
   "display_name": "Python 3",
   "language": "python",
   "name": "python3"
  },
  "language_info": {
   "codemirror_mode": {
    "name": "ipython",
    "version": 3
   },
   "file_extension": ".py",
   "mimetype": "text/x-python",
   "name": "python",
   "nbconvert_exporter": "python",
   "pygments_lexer": "ipython3",
   "version": "3.11.4"
  },
  "orig_nbformat": 4
 },
 "nbformat": 4,
 "nbformat_minor": 2
}
