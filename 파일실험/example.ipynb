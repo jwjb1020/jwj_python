{
 "cells": [
  {
   "cell_type": "code",
   "execution_count": 9,
   "metadata": {},
   "outputs": [
    {
     "name": "stdout",
     "output_type": "stream",
     "text": [
      "adfasdf\n",
      "\n",
      "asdfasdfsaf\n",
      "asdfasdf\n",
      "\n",
      "안ㄴㅇㄴ령ㄴㄹ\n",
      "ㄴㅁㅇㄻㅎ\n"
     ]
    }
   ],
   "source": [
    "file = open(\"example.txt\",\"r+\",encoding=\"utf-8\")\n",
    "content = file.read()\n",
    "print(content)\n",
    "file.close()"
   ]
  }
 ],
 "metadata": {
  "kernelspec": {
   "display_name": "Python 3",
   "language": "python",
   "name": "python3"
  },
  "language_info": {
   "codemirror_mode": {
    "name": "ipython",
    "version": 3
   },
   "file_extension": ".py",
   "mimetype": "text/x-python",
   "name": "python",
   "nbconvert_exporter": "python",
   "pygments_lexer": "ipython3",
   "version": "3.11.3"
  },
  "orig_nbformat": 4
 },
 "nbformat": 4,
 "nbformat_minor": 2
}
