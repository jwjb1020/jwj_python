{
 "cells": [
  {
   "cell_type": "code",
   "execution_count": 13,
   "metadata": {},
   "outputs": [
    {
     "data": {
      "text/plain": [
       "5"
      ]
     },
     "execution_count": 13,
     "metadata": {},
     "output_type": "execute_result"
    }
   ],
   "source": [
    "exec(\"x=2\")\n",
    "x\n",
    "exec(\"y=3\")\n",
    "y\n",
    "\n",
    "eval(\"x+y\")\n",
    "exec(\"x+y\")\n",
    "x+y\n",
    "z2 = exec(\"x+y\")\n",
    "z2\n",
    "exec(\"z2=x+y\")\n",
    "z2"
   ]
  },
  {
   "cell_type": "code",
   "execution_count": 14,
   "metadata": {},
   "outputs": [
    {
     "name": "stdout",
     "output_type": "stream",
     "text": [
      "6\n",
      "-1\n",
      "9\n"
     ]
    }
   ],
   "source": [
    "str1 = \"Hello World\"\n",
    "print(str1.find(\"W\"))\n",
    "print(str1.find(\"x\"))\n",
    "print(str1.rfind(\"l\"))"
   ]
  },
  {
   "cell_type": "code",
   "execution_count": 17,
   "metadata": {},
   "outputs": [
    {
     "name": "stdout",
     "output_type": "stream",
     "text": [
      "0123456789012345678901234567\n",
      "Rank Player               HR\n",
      "  1  ddd                 324\n",
      "   1234.57\n"
     ]
    }
   ],
   "source": [
    "print(\"0123456789012345678901234567\")\n",
    "print(\"{0:^5}{1:<20}{2:>3}\".format(\"Rank\",\"Player\",\"HR\"))\n",
    "print(\"{0:^5}{1:<20}{2:>3}\".format(\"1\",\"ddd\",\"324\"))\n",
    "print(\"{0:10.2f}\".format(1234.5678))"
   ]
  },
  {
   "cell_type": "code",
   "execution_count": 19,
   "metadata": {},
   "outputs": [
    {
     "name": "stdout",
     "output_type": "stream",
     "text": [
      "   1234.57\n",
      "  1,234.57\n",
      " 1,234.568\n",
      "123,456.78%\n",
      " 1,234.568\n",
      "1,234.5678\n"
     ]
    }
   ],
   "source": [
    "print(\"{0:10.2f}\".format(1234.5678))\n",
    "print(\"{0:10,.2f}\".format(1234.5678))\n",
    "print(\"{0:10,.3f}\".format(1234.5678))\n",
    "print(\"{0:10,.2%}\".format(1234.5678))\n",
    "print(\"{0:10,.3f}\".format(1234.5678))\n",
    "print(\"{0:10,}\".format(1234.5678))"
   ]
  },
  {
   "cell_type": "code",
   "execution_count": 23,
   "metadata": {},
   "outputs": [
    {
     "name": "stdout",
     "output_type": "stream",
     "text": [
      "12.0\n"
     ]
    }
   ],
   "source": [
    "string = \"입력\"\n",
    "speed = eval(input(string)) #3val!!!\n",
    "print(speed)"
   ]
  },
  {
   "cell_type": "code",
   "execution_count": 29,
   "metadata": {},
   "outputs": [
    {
     "name": "stdout",
     "output_type": "stream",
     "text": [
      "Last name 조원준\n",
      "First name(s) 조원\n"
     ]
    }
   ],
   "source": [
    "fullName = input(\"Enter a full name : \")\n",
    "n= fullName.rfind(\" \")\n",
    "print(\"Last name\", fullName[n+1:])\n",
    "print(\"First name(s)\",fullName[:n])"
   ]
  },
  {
   "cell_type": "code",
   "execution_count": 36,
   "metadata": {},
   "outputs": [
    {
     "name": "stdout",
     "output_type": "stream",
     "text": [
      "The area fo TExas is 268_820 square miles.\n"
     ]
    }
   ],
   "source": [
    "print(\"The area fo {0} is {1:_} square miles.\".format(\"TExas\",268820))"
   ]
  },
  {
   "cell_type": "code",
   "execution_count": 37,
   "metadata": {},
   "outputs": [
    {
     "data": {
      "text/plain": [
       "8"
      ]
     },
     "execution_count": 37,
     "metadata": {},
     "output_type": "execute_result"
    }
   ],
   "source": [
    "2<<2 #2*4 이진수 2를 왼쪽을으로 두번 옮김"
   ]
  },
  {
   "cell_type": "code",
   "execution_count": 38,
   "metadata": {},
   "outputs": [
    {
     "name": "stdout",
     "output_type": "stream",
     "text": [
      "<<\n",
      "done\n"
     ]
    }
   ],
   "source": [
    "number =23\n",
    "guess = int(input(\"enter an integer: \"))\n",
    "if guess == number:\n",
    "    print(\"!!!\")\n",
    "else:\n",
    "    if guess < number:\n",
    "        print(\"<<\")\n",
    "    else:\n",
    "        print(\">>\")\n",
    "print(\"done\")            "
   ]
  },
  {
   "cell_type": "code",
   "execution_count": null,
   "metadata": {},
   "outputs": [],
   "source": []
  }
 ],
 "metadata": {
  "kernelspec": {
   "display_name": "Python 3",
   "language": "python",
   "name": "python3"
  },
  "language_info": {
   "codemirror_mode": {
    "name": "ipython",
    "version": 3
   },
   "file_extension": ".py",
   "mimetype": "text/x-python",
   "name": "python",
   "nbconvert_exporter": "python",
   "pygments_lexer": "ipython3",
   "version": "3.11.4"
  },
  "orig_nbformat": 4
 },
 "nbformat": 4,
 "nbformat_minor": 2
}
