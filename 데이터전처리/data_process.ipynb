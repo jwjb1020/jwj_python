{
 "cells": [
  {
   "attachments": {},
   "cell_type": "markdown",
   "metadata": {},
   "source": [
    "결측치 처리\n",
    "찾기\n",
    "df.isnull()\n",
    "대체\n",
    "df.fillna()\n",
    "제거\n",
    "df.dropna()\n"
   ]
  },
  {
   "cell_type": "code",
   "execution_count": 1,
   "metadata": {},
   "outputs": [
    {
     "name": "stdout",
     "output_type": "stream",
     "text": [
      "       A      B      C\n",
      "0  False  False  False\n",
      "1   True  False  False\n",
      "2  False   True  False\n",
      "     A    B  C\n",
      "0  1.0  4.0  7\n",
      "1  0.0  5.0  8\n",
      "2  3.0  0.0  9\n",
      "     A    B  C\n",
      "0  1.0  4.0  7\n"
     ]
    }
   ],
   "source": [
    "import pandas as pd\n",
    "import numpy as np\n",
    "\n",
    "# 예제 데이터\n",
    "data = {'A': [1, np.nan, 3], 'B': [4, 5, np.nan], 'C': [7, 8, 9]}\n",
    "df = pd.DataFrame(data)\n",
    "\n",
    "# 결측치 확인\n",
    "print(df.isnull())\n",
    "# 결과:\n",
    "#        A      B      C\n",
    "# 0  False  False  False\n",
    "# 1   True  False  False\n",
    "# 2  False   True  False\n",
    "\n",
    "# 결측치 대체\n",
    "filled_df = df.fillna(0)\n",
    "print(filled_df)\n",
    "# 결과:\n",
    "#      A    B  C\n",
    "# 0  1.0  4.0  7\n",
    "# 1  0.0  5.0  8\n",
    "# 2  3.0  0.0  9\n",
    "\n",
    "# 결측치 제거\n",
    "dropped_df = df.dropna()\n",
    "print(dropped_df)\n",
    "# 결과:\n",
    "#      A    B  C\n",
    "# 0  1.0  4.0  7\n"
   ]
  },
  {
   "attachments": {},
   "cell_type": "markdown",
   "metadata": {},
   "source": [
    "데이터 형변환의 필요성\n"
   ]
  },
  {
   "cell_type": "code",
   "execution_count": 2,
   "metadata": {},
   "outputs": [
    {
     "data": {
      "image/png": "[encoded data removed]",
      "text/plain": [
       "<Figure size 640x480 with 1 Axes>"
      ]
     },
     "metadata": {},
     "output_type": "display_data"
    }
   ],
   "source": [
    "import pandas as pd\n",
    "import matplotlib.pyplot as plt\n",
    "\n",
    "# 데이터프레임 생성\n",
    "data = {\n",
    "    'year': ['2017', '2018', '2019', '2020', '2021'],\n",
    "    'sales': ['100', '80', '150', '-50', '180'],\n",
    "    'expenses': ['80', '90', '100', '110', '120']\n",
    "}\n",
    "\n",
    "df = pd.DataFrame(data)\n",
    "\n",
    "# sales 열을 정수형으로 변환\n",
    "#df['sales'] = df['sales'].astype(int)\n",
    "\n",
    "# 그래프 그리기\n",
    "plt.plot(df['year'], df['sales'])\n",
    "\n",
    "# 축과 제목 설정\n",
    "plt.xlabel('Year')\n",
    "plt.ylabel('Sales')\n",
    "plt.title('Sales over Years')\n",
    "\n",
    "# 그래프 표시\n",
    "plt.show()\n",
    "\n",
    "\n"
   ]
  },
  {
   "attachments": {},
   "cell_type": "markdown",
   "metadata": {},
   "source": [
    "# 데이터 형 변환\n",
    "## astype() :데이터의 자료형을 변환해주는 함수\n",
    "int 또는 int64: 정수형<br>\n",
    "float 또는 float64: 실수형<br>\n",
    "bool 또는 bool_: 불리언형<br>\n",
    "str 또는 object: 문자열형<br>\n",
    "category: 범주형<br>\n",
    "datetime64: 날짜/시간형\n"
   ]
  },
  {
   "cell_type": "code",
   "execution_count": 3,
   "metadata": {},
   "outputs": [
    {
     "name": "stdout",
     "output_type": "stream",
     "text": [
      "int_col                float64\n",
      "float_col                int32\n",
      "str_col                   bool\n",
      "bool_col                object\n",
      "category_col          category\n",
      "date_col        datetime64[ns]\n",
      "dtype: object\n"
     ]
    }
   ],
   "source": [
    "import pandas as pd\n",
    "\n",
    "# 데이터프레임 생성\n",
    "data = {'int_col': [1, 2, 3, 4, 5],\n",
    "        'float_col': [1.1, 2.2, 3.3, 4.4, 5.5],\n",
    "        'str_col': ['1', '2', '3', '4', '5'],\n",
    "        'bool_col': [True, False, True, False, True],\n",
    "        'category_col': ['a', 'b', 'c', 'a', 'b'],\n",
    "        'date_col': ['2022-01-01', '2022-02-01', '2022-03-01', '2022-04-01', '2022-05-01']}\n",
    "\n",
    "df = pd.DataFrame(data)\n",
    "\n",
    "# 열 데이터 형 변환\n",
    "df['int_col'] = df['int_col'].astype(float)  # 정수형 -> 실수형\n",
    "df['float_col'] = df['float_col'].astype(int)  # 실수형 -> 정수형\n",
    "df['str_col'] = df['str_col'].astype(bool)  # 문자열 -> 불리언형\n",
    "df['bool_col'] = df['bool_col'].astype(str)  # 불리언형 -> 문자열형\n",
    "df['category_col'] = df['category_col'].astype('category')  # 문자열 -> 범주형\n",
    "df['date_col'] = pd.to_datetime(df['date_col'])  # 문자열 -> 날짜/시간형\n",
    "\n",
    "# 데이터프레임 정보 출력\n",
    "print(df.dtypes)\n"
   ]
  },
  {
   "cell_type": "code",
   "execution_count": 4,
   "metadata": {},
   "outputs": [
    {
     "name": "stdout",
     "output_type": "stream",
     "text": [
      "      name  age  score1  score2\n",
      "0    ALICE   25      80      85\n",
      "1      BOB   30      70      75\n",
      "2  CHARLIE   35      85      90\n"
     ]
    }
   ],
   "source": [
    "import pandas as pd\n",
    "\n",
    "# 데이터프레임 생성\n",
    "data = {'name': ['Alice', 'Bob', 'Charlie'],\n",
    "        'age': ['25', '30', '35'],\n",
    "        'score1': [80, 70, 85],\n",
    "        'score2': [85, 75, 90]}\n",
    "\n",
    "df = pd.DataFrame(data)\n",
    "\n",
    "# apply() 메소드를 이용하여 모든 문자열 값을 대문자로 변환\n",
    "df['name'] = df['name'].apply(lambda x: x.upper())\n",
    "df['age'] = df['age'].apply(int)\n",
    "\n",
    "print(df)\n"
   ]
  },
  {
   "attachments": {},
   "cell_type": "markdown",
   "metadata": {},
   "source": [
    "# 문자열 처리\n",
    "## 문자열 데이터를 처리하기 위한 다양한 메소드 제공\n",
    ".str 액세서를 사용하여 문자열 함수를 적용<br>\n",
    "upper(): 모든 문자를 대문자로 변환합니다.<br>\n",
    "lower(): 모든 문자를 소문자로 변환합니다.<br>\n",
    "strip(): 양쪽 끝의 공백을 제거합니다.<br>\n",
    "lstrip(): 왼쪽 끝의 공백을 제거합니다.<br>\n",
    "rstrip(): 오른쪽 끝의 공백을 제거합니다.<br>\n",
    "split(): 주어진 구분자를 기준으로 문자열을 분할합니다.<br>\n",
    "contains(): 문자열에서 특정 문자열이 포함되어 있는지 확인합니다.<br>\n",
    "replace(): 문자열에서 특정 문자열을 다른 문자열로 대체합니다.<br>\n",
    "slice(): 문자열에서 일부 문자를 추출합니다.<br>\n",
    "len(): 문자열의 길이를 반환합니다.<br>\n",
    "startswith(): 문자열이 특정 문자열로 시작하는지 확인합니다.<br>\n",
    "endswith(): 문자열이 특정 문자열로 끝나는지 확인합니다.\n",
    "\n",
    "\n"
   ]
  },
  {
   "cell_type": "code",
   "execution_count": 5,
   "metadata": {},
   "outputs": [
    {
     "name": "stdout",
     "output_type": "stream",
     "text": [
      "               lower                  words     no_punctuation  word_count\n",
      "0      hello, world!       [Hello,, World!]        Hello World           2\n",
      "1    pandas is great    [Pandas, is, great]    Pandas is great           3\n",
      "2  python is awesome  [Python, is, awesome]  Python is awesome           3\n"
     ]
    }
   ],
   "source": [
    "import pandas as pd\n",
    "\n",
    "# 샘플 데이터 생성\n",
    "data = {\n",
    "    'text': ['Hello, World!', 'Pandas is great', 'Python is awesome']\n",
    "}\n",
    "df = pd.DataFrame(data)\n",
    "'''\\s: 모든 공백 문자\n",
    "\\w: 모든 단어 문자0\n",
    "^: 부정을 의미\n",
    "[^\\w\\s] 패턴은 단어 문자와 공백 문자가 아닌 모든 문자'''\n",
    "\n",
    "\n",
    "\n",
    "# 문자열 처리 작업\n",
    "df['lower'] = df['text'].str.lower()  # 모든 문자를 소문자로 변환\n",
    "df['words'] = df['text'].str.split()  # 공백을 기준으로 단어 분할\n",
    "df['no_punctuation'] = df['text'].str.replace('[^\\w\\s]', '', regex=True)  # 구두점, 기호 제거\n",
    "df['word_count'] = df['text'].str.split().str.len()  # 단어 개수 계산\n",
    "\n",
    "print(df.iloc[:, 1:])\n",
    "\n"
   ]
  },
  {
   "attachments": {},
   "cell_type": "markdown",
   "metadata": {},
   "source": [
    "열(column) 및 행(row) 조작\n",
    "열(column) 추가\n"
   ]
  },
  {
   "cell_type": "code",
   "execution_count": 6,
   "metadata": {},
   "outputs": [
    {
     "name": "stdout",
     "output_type": "stream",
     "text": [
      "      name  age gender      city  age2  age3  height\n",
      "0    Alice   25      F  New York    26    26     160\n",
      "1      Bob   30      M     Paris    31    31     170\n",
      "2  Charlie   35      M    London    36    36     180\n",
      "3    David   40      M    Berlin    41    41     175\n",
      "4      Eva   45      F     Tokyo    46    46     165\n"
     ]
    }
   ],
   "source": [
    "import pandas as pd\n",
    "\n",
    "# 데이터프레임 생성\n",
    "data = {'name': ['Alice', 'Bob', 'Charlie', 'David', 'Eva'],\n",
    "        'age': [25, 30, 35, 40, 45],\n",
    "        'city': ['New York', 'Paris', 'London', 'Berlin', 'Tokyo']}\n",
    "df = pd.DataFrame(data)\n",
    "\n",
    "# 열 추가 방법 1: 기존 열을 이용하여 새로운 열 추가\n",
    "df['age2'] = df['age'] + 1\n",
    "\n",
    "# 열 추가 방법 2: insert() 메소드를 이용하여 특정 위치에 열 추가\n",
    "df.insert(loc=2, column='gender', value=['F', 'M', 'M', 'M', 'F'])\n",
    "\n",
    "# 열 추가 방법 3: assign() 메소드를 이용하여 여러 개의 열 한 번에 추가\n",
    "df = df.assign(age3=[26, 31, 36, 41, 46], height=[160, 170, 180, 175, 165])\n",
    "\n",
    "# 출력\n",
    "print(df)\n"
   ]
  },
  {
   "attachments": {},
   "cell_type": "markdown",
   "metadata": {},
   "source": [
    "열(column) 및 행(row) 조작\n",
    "행(row) 추가\n"
   ]
  },
  {
   "cell_type": "code",
   "execution_count": 8,
   "metadata": {},
   "outputs": [
    {
     "ename": "AttributeError",
     "evalue": "'DataFrame' object has no attribute 'append'",
     "output_type": "error",
     "traceback": [
      "\u001b[1;31m---------------------------------------------------------------------------\u001b[0m",
      "\u001b[1;31mAttributeError\u001b[0m                            Traceback (most recent call last)",
      "Cell \u001b[1;32mIn[8], line 11\u001b[0m\n\u001b[0;32m      9\u001b[0m \u001b[39m# 행 추가 방법 1: append() 메소드를 이용하여 단일 행 추가\u001b[39;00m\n\u001b[0;32m     10\u001b[0m new_row \u001b[39m=\u001b[39m {\u001b[39m'\u001b[39m\u001b[39mname\u001b[39m\u001b[39m'\u001b[39m: \u001b[39m'\u001b[39m\u001b[39mFrank\u001b[39m\u001b[39m'\u001b[39m, \u001b[39m'\u001b[39m\u001b[39mage\u001b[39m\u001b[39m'\u001b[39m: \u001b[39m50\u001b[39m, \u001b[39m'\u001b[39m\u001b[39mcity\u001b[39m\u001b[39m'\u001b[39m: \u001b[39m'\u001b[39m\u001b[39mSeoul\u001b[39m\u001b[39m'\u001b[39m}\n\u001b[1;32m---> 11\u001b[0m df \u001b[39m=\u001b[39m df\u001b[39m.\u001b[39;49mappend(new_row, ignore_index\u001b[39m=\u001b[39m\u001b[39mTrue\u001b[39;00m)\n\u001b[0;32m     13\u001b[0m \u001b[39m# 행 추가 방법 2: append() 메소드를 이용하여 여러 행 추가\u001b[39;00m\n\u001b[0;32m     14\u001b[0m new_rows \u001b[39m=\u001b[39m [{\u001b[39m'\u001b[39m\u001b[39mname\u001b[39m\u001b[39m'\u001b[39m: \u001b[39m'\u001b[39m\u001b[39mGeorge\u001b[39m\u001b[39m'\u001b[39m, \u001b[39m'\u001b[39m\u001b[39mage\u001b[39m\u001b[39m'\u001b[39m: \u001b[39m22\u001b[39m, \u001b[39m'\u001b[39m\u001b[39mcity\u001b[39m\u001b[39m'\u001b[39m: \u001b[39m'\u001b[39m\u001b[39mToronto\u001b[39m\u001b[39m'\u001b[39m},\n\u001b[0;32m     15\u001b[0m             {\u001b[39m'\u001b[39m\u001b[39mname\u001b[39m\u001b[39m'\u001b[39m: \u001b[39m'\u001b[39m\u001b[39mHelen\u001b[39m\u001b[39m'\u001b[39m, \u001b[39m'\u001b[39m\u001b[39mage\u001b[39m\u001b[39m'\u001b[39m: \u001b[39m27\u001b[39m, \u001b[39m'\u001b[39m\u001b[39mcity\u001b[39m\u001b[39m'\u001b[39m: \u001b[39m'\u001b[39m\u001b[39mSydney\u001b[39m\u001b[39m'\u001b[39m}]\n",
      "File \u001b[1;32mc:\\Python\\lib\\site-packages\\pandas\\core\\generic.py:5989\u001b[0m, in \u001b[0;36mNDFrame.__getattr__\u001b[1;34m(self, name)\u001b[0m\n\u001b[0;32m   5982\u001b[0m \u001b[39mif\u001b[39;00m (\n\u001b[0;32m   5983\u001b[0m     name \u001b[39mnot\u001b[39;00m \u001b[39min\u001b[39;00m \u001b[39mself\u001b[39m\u001b[39m.\u001b[39m_internal_names_set\n\u001b[0;32m   5984\u001b[0m     \u001b[39mand\u001b[39;00m name \u001b[39mnot\u001b[39;00m \u001b[39min\u001b[39;00m \u001b[39mself\u001b[39m\u001b[39m.\u001b[39m_metadata\n\u001b[0;32m   5985\u001b[0m     \u001b[39mand\u001b[39;00m name \u001b[39mnot\u001b[39;00m \u001b[39min\u001b[39;00m \u001b[39mself\u001b[39m\u001b[39m.\u001b[39m_accessors\n\u001b[0;32m   5986\u001b[0m     \u001b[39mand\u001b[39;00m \u001b[39mself\u001b[39m\u001b[39m.\u001b[39m_info_axis\u001b[39m.\u001b[39m_can_hold_identifiers_and_holds_name(name)\n\u001b[0;32m   5987\u001b[0m ):\n\u001b[0;32m   5988\u001b[0m     \u001b[39mreturn\u001b[39;00m \u001b[39mself\u001b[39m[name]\n\u001b[1;32m-> 5989\u001b[0m \u001b[39mreturn\u001b[39;00m \u001b[39mobject\u001b[39;49m\u001b[39m.\u001b[39;49m\u001b[39m__getattribute__\u001b[39;49m(\u001b[39mself\u001b[39;49m, name)\n",
      "\u001b[1;31mAttributeError\u001b[0m: 'DataFrame' object has no attribute 'append'"
     ]
    }
   ],
   "source": [
    "import pandas as pd\n",
    "\n",
    "# 데이터프레임 생성\n",
    "data = {'name': ['Alice', 'Bob', 'Charlie', 'David', 'Eva'],\n",
    "        'age': [25, 30, 35, 40, 45],\n",
    "        'city': ['New York', 'Paris', 'London', 'Berlin', 'Tokyo']}\n",
    "df = pd.DataFrame(data)\n",
    "\n",
    "# 행 추가 방법 1: append() 메소드를 이용하여 단일 행 추가\n",
    "new_row = {'name': 'Frank', 'age': 50, 'city': 'Seoul'}\n",
    "df = df.append(new_row, ignore_index=True)\n",
    "\n",
    "# 행 추가 방법 2: append() 메소드를 이용하여 여러 행 추가\n",
    "new_rows = [{'name': 'George', 'age': 22, 'city': 'Toronto'},\n",
    "            {'name': 'Helen', 'age': 27, 'city': 'Sydney'}]\n",
    "df = df.append(new_rows, ignore_index=True)\n",
    "\n",
    "# 출력\n",
    "print(df)\n"
   ]
  },
  {
   "attachments": {},
   "cell_type": "markdown",
   "metadata": {},
   "source": [
    "열(column) 및 행(row) 조작\n",
    "삭제\n"
   ]
  },
  {
   "cell_type": "code",
   "execution_count": 9,
   "metadata": {},
   "outputs": [
    {
     "name": "stdout",
     "output_type": "stream",
     "text": [
      "Empty DataFrame\n",
      "Columns: []\n",
      "Index: [3, 4]\n"
     ]
    }
   ],
   "source": [
    "import pandas as pd\n",
    "\n",
    "# 데이터프레임 생성\n",
    "data = {'name': ['Alice', 'Bob', 'Charlie', 'David', 'Eva'],\n",
    "        'age': [25, 30, 35, 40, 45],\n",
    "        'city': ['New York', 'Paris', 'London', 'Berlin', 'Tokyo']}\n",
    "df = pd.DataFrame(data)\n",
    "\n",
    "# 행 삭제 방법 1: drop() 메소드를 이용하여 단일 행 삭제\n",
    "df = df.drop(0)\n",
    "\n",
    "# 행 삭제 방법 2: drop() 메소드를 이용하여 여러 행 삭제\n",
    "df = df.drop([1, 2])\n",
    "\n",
    "# 열 삭제 방법 1: drop() 메소드를 이용하여 단일 열 삭제\n",
    "df = df.drop('age', axis=1)\n",
    "\n",
    "# 열 삭제 방법 2: drop() 메소드를 이용하여 여러 열 삭제\n",
    "df = df.drop(['name', 'city'], axis=1)\n",
    "\n",
    "# 출력\n",
    "print(df)\n"
   ]
  },
  {
   "attachments": {},
   "cell_type": "markdown",
   "metadata": {},
   "source": [
    "열(column) 및 행(row) 조작\n",
    "재정렬\n"
   ]
  },
  {
   "cell_type": "code",
   "execution_count": 10,
   "metadata": {},
   "outputs": [
    {
     "name": "stdout",
     "output_type": "stream",
     "text": [
      "   age      city     name\n",
      "4   45     Tokyo      Eva\n",
      "3   40    Berlin    David\n",
      "2   35    London  Charlie\n",
      "1   30     Paris      Bob\n",
      "0   25  New York    Alice\n"
     ]
    }
   ],
   "source": [
    "import pandas as pd\n",
    "\n",
    "# 데이터프레임 생성\n",
    "data = {'name': ['Alice', 'Bob', 'Charlie', 'David', 'Eva'],\n",
    "        'age': [25, 30, 35, 40, 45],\n",
    "        'city': ['New York', 'Paris', 'London', 'Berlin', 'Tokyo']}\n",
    "df = pd.DataFrame(data)\n",
    "\n",
    "# 행 재정렬 방법 1: loc[]을 이용하여 행 순서 변경\n",
    "df = df.loc[[4, 3, 2, 1, 0]]\n",
    "\n",
    "# 행 재정렬 방법 2: sort_values() 메소드를 이용하여 열 기준으로 정렬\n",
    "df = df.sort_values('age', ascending=False)\n",
    "\n",
    "# 열 재정렬 방법 1: 열 이름 순서 변경\n",
    "df = df[['city', 'name', 'age']]\n",
    "\n",
    "# 열 재정렬 방법 2: 열 이름을 알파벳 순서로 정렬\n",
    "df = df.reindex(sorted(df.columns), axis=1)\n",
    "\n",
    "# 출력\n",
    "print(df)\n"
   ]
  },
  {
   "attachments": {},
   "cell_type": "markdown",
   "metadata": {},
   "source": [
    "# 데이터 전처리 예제\n",
    "1.'학년' 열을 추가하고, 모든 행에 '3학년'이라는 값으로 채워 넣으세요.<br>\n",
    "2.'국적' 열을 추가하고, 각 행에 해당하는 사람의 국적을 채워 넣으세요.<br>\n",
    "3.'성별'이 '여'인 행만 남기고 나머지 행을 삭제하세요.<br>\n",
    "4.'나이' 열을 기준으로 내림차순으로 행을 정렬하세요.<br>\n",
    "5.인덱스가 2인 행을 삭제하세요.<br>\n",
    "6.아래 새로운 행 3개를 추가하세요.<br>\n",
    "7.'이름' 열을 기준으로 오름차순으로 행을 정렬하세요.<br>\n",
    "8.'키' 열의 값을 cm에서 m로 변환하세요.<br>\n",
    "9.'성별' 열을 삭제하세요.<br>\n"
   ]
  },
  {
   "cell_type": "code",
   "execution_count": 4,
   "metadata": {},
   "outputs": [
    {
     "name": "stdout",
     "output_type": "stream",
     "text": [
      "      이름  나이 성별    키   학년   국적\n",
      "2  Sarah  28  여  163  3학년   인도\n",
      "3    Ann  35  여  155  3학년  브라질\n",
      "       이름  나이     키   학년   국적\n",
      "4    Alex  22  1.80  2학년   미국\n",
      "1     Ann  35  1.55  3학년  브라질\n",
      "6  Daniel  33  1.75  3학년   호주\n",
      "5   Emily  29  1.65  1학년  캐나다\n",
      "3    John  25  1.75  3학년   영국\n",
      "0    Mike  41  1.90  3학년  프랑스\n",
      "2   Steve  32  1.80  3학년   미국\n"
     ]
    },
    {
     "data": {
      "text/html": [
       "<div>\n",
       "<style scoped>\n",
       "    .dataframe tbody tr th:only-of-type {\n",
       "        vertical-align: middle;\n",
       "    }\n",
       "\n",
       "    .dataframe tbody tr th {\n",
       "        vertical-align: top;\n",
       "    }\n",
       "\n",
       "    .dataframe thead th {\n",
       "        text-align: right;\n",
       "    }\n",
       "</style>\n",
       "<table border=\"1\" class=\"dataframe\">\n",
       "  <thead>\n",
       "    <tr style=\"text-align: right;\">\n",
       "      <th></th>\n",
       "      <th>이름</th>\n",
       "      <th>나이</th>\n",
       "      <th>키</th>\n",
       "      <th>학년</th>\n",
       "      <th>국적</th>\n",
       "    </tr>\n",
       "  </thead>\n",
       "  <tbody>\n",
       "    <tr>\n",
       "      <th>4</th>\n",
       "      <td>Alex</td>\n",
       "      <td>22</td>\n",
       "      <td>1.80</td>\n",
       "      <td>2학년</td>\n",
       "      <td>미국</td>\n",
       "    </tr>\n",
       "    <tr>\n",
       "      <th>1</th>\n",
       "      <td>Ann</td>\n",
       "      <td>35</td>\n",
       "      <td>1.55</td>\n",
       "      <td>3학년</td>\n",
       "      <td>브라질</td>\n",
       "    </tr>\n",
       "    <tr>\n",
       "      <th>6</th>\n",
       "      <td>Daniel</td>\n",
       "      <td>33</td>\n",
       "      <td>1.75</td>\n",
       "      <td>3학년</td>\n",
       "      <td>호주</td>\n",
       "    </tr>\n",
       "    <tr>\n",
       "      <th>5</th>\n",
       "      <td>Emily</td>\n",
       "      <td>29</td>\n",
       "      <td>1.65</td>\n",
       "      <td>1학년</td>\n",
       "      <td>캐나다</td>\n",
       "    </tr>\n",
       "    <tr>\n",
       "      <th>3</th>\n",
       "      <td>John</td>\n",
       "      <td>25</td>\n",
       "      <td>1.75</td>\n",
       "      <td>3학년</td>\n",
       "      <td>영국</td>\n",
       "    </tr>\n",
       "    <tr>\n",
       "      <th>0</th>\n",
       "      <td>Mike</td>\n",
       "      <td>41</td>\n",
       "      <td>1.90</td>\n",
       "      <td>3학년</td>\n",
       "      <td>프랑스</td>\n",
       "    </tr>\n",
       "    <tr>\n",
       "      <th>2</th>\n",
       "      <td>Steve</td>\n",
       "      <td>32</td>\n",
       "      <td>1.80</td>\n",
       "      <td>3학년</td>\n",
       "      <td>미국</td>\n",
       "    </tr>\n",
       "  </tbody>\n",
       "</table>\n",
       "</div>"
      ],
      "text/plain": [
       "       이름  나이     키   학년   국적\n",
       "4    Alex  22  1.80  2학년   미국\n",
       "1     Ann  35  1.55  3학년  브라질\n",
       "6  Daniel  33  1.75  3학년   호주\n",
       "5   Emily  29  1.65  1학년  캐나다\n",
       "3    John  25  1.75  3학년   영국\n",
       "0    Mike  41  1.90  3학년  프랑스\n",
       "2   Steve  32  1.80  3학년   미국"
      ]
     },
     "execution_count": 4,
     "metadata": {},
     "output_type": "execute_result"
    }
   ],
   "source": [
    "import pandas as pd\n",
    "\n",
    "data = {'이름': ['John', 'Steve', 'Sarah', 'Ann', 'Mike'],\n",
    "        '나이': [25, 32, 28, 35, 41],\n",
    "        '성별': ['남', '남', '여', '여', '남'],\n",
    "        '키': [175, 180, 163, 155, 190]}\n",
    "df = pd.DataFrame(data)\n",
    "\n",
    "#1\n",
    "df[\"학년\"] = \"3학년\"\n",
    "#2\n",
    "df[\"국적\"] = [\"영국\",\"미국\",\"인도\",\"브라질\",\"프랑스\"]\n",
    "#3\n",
    "df1 = df[df[\"성별\"]==\"여\"]\n",
    "#4\n",
    "df = df.sort_values(by=\"나이\",ascending=False)\n",
    "#5\n",
    "df = df.drop(2)\n",
    "#6\n",
    "new_rows = [{'이름': 'Alex', '나이': 22, '성별': '남', '키': 180, '학년': '2학년', '국적': '미국'}, {'이름': 'Emily', '나이': 29, '성별': '여', '키': 165, '학년': '1학년', '국적': '캐나다'}, {'이름': 'Daniel', '나이': 33, '성별': '남', '키': 175, '학년': '3학년', '국적': '호주'}]\n",
    "df = pd.concat([df, pd.DataFrame(new_rows)], ignore_index=True)\n",
    "#7\n",
    "df =df.sort_values(by=\"이름\")\n",
    "#8\n",
    "df[\"키\"] = df['키']/100\n",
    "#9\n",
    "df =df.drop(\"성별\",axis=1)\n",
    "\n",
    "print(df1)\n",
    "\n",
    "print(df)\n",
    "\n",
    "df\n"
   ]
  },
  {
   "attachments": {},
   "cell_type": "markdown",
   "metadata": {},
   "source": [
    "# 데이터 병합\n",
    "Concat<br>\n",
    "데이터프레임을 수직(위-아래) 또는 수평(좌-우)으로 연결하는 데 사용<br>\n",
    "axis<br>\n",
    "0: 행방향<br>\n",
    "1: 열방향<br>\n",
    "\n",
    "ignore_index=True<br>\n",
    "인덱스가 0부터 시작하는 연속된 정수로 재설정\n",
    "\n"
   ]
  },
  {
   "cell_type": "code",
   "execution_count": 8,
   "metadata": {},
   "outputs": [
    {
     "name": "stdout",
     "output_type": "stream",
     "text": [
      "    0   1   2   3   4   5   6   7\n",
      "0  A0  B0  C0  D0  A4  B4  C4  D4\n",
      "1  A1  B1  C1  D1  A5  B5  C5  D5\n",
      "2  A2  B2  C2  D2  A6  B6  C6  D6\n",
      "3  A3  B3  C3  D3  A7  B7  C7  D7\n",
      "    A   B   C   D\n",
      "0  A0  B0  C0  D0\n",
      "1  A1  B1  C1  D1\n",
      "2  A2  B2  C2  D2\n",
      "3  A3  B3  C3  D3\n",
      "4  A4  B4  C4  D4\n",
      "5  A5  B5  C5  D5\n",
      "6  A6  B6  C6  D6\n",
      "7  A7  B7  C7  D7\n"
     ]
    }
   ],
   "source": [
    "import pandas as pd\n",
    "\n",
    "df1 = pd.DataFrame({'A': ['A0', 'A1', 'A2', 'A3'],\n",
    "                    'B': ['B0', 'B1', 'B2', 'B3'],\n",
    "                    'C': ['C0', 'C1', 'C2', 'C3'],\n",
    "                    'D': ['D0', 'D1', 'D2', 'D3']})\n",
    "\n",
    "df2 = pd.DataFrame({'A': ['A4', 'A5', 'A6', 'A7'],\n",
    "                    'B': ['B4', 'B5', 'B6', 'B7'],\n",
    "                    'C': ['C4', 'C5', 'C6', 'C7'],\n",
    "                    'D': ['D4', 'D5', 'D6', 'D7']})\n",
    "\n",
    "result1 = pd.concat([df1, df2], axis=1, ignore_index=True)\n",
    "result2 = pd.concat([df1, df2], axis=0, ignore_index=True)\n",
    "print(result1)\n",
    "print(result2)"
   ]
  },
  {
   "attachments": {},
   "cell_type": "markdown",
   "metadata": {},
   "source": [
    "Merge\n",
    "두 데이터프레임을 공통 열 또는 인덱스를 기준으로 병합하는 데 사용\n"
   ]
  },
  {
   "cell_type": "code",
   "execution_count": 9,
   "metadata": {},
   "outputs": [
    {
     "name": "stdout",
     "output_type": "stream",
     "text": [
      "  key   A   B   C   D\n",
      "0  K0  A0  B0  C0  D0\n",
      "1  K3  A3  B3  C3  D3\n"
     ]
    }
   ],
   "source": [
    "import pandas as pd\n",
    "\n",
    "left = pd.DataFrame({'key': ['K0', 'K1', 'K3'],\n",
    "                     'A': ['A0', 'A1', 'A3'],\n",
    "                     'B': ['B0', 'B1', 'B3']})\n",
    "\n",
    "right = pd.DataFrame({'key': ['K0', 'K2', 'K3'],\n",
    "                      'C': ['C0', 'C2', 'C3'],\n",
    "                      'D': ['D0', 'D2', 'D3']})\n",
    "\n",
    "result = pd.merge(left, right, on='key')\n",
    "\n",
    "\n",
    "print(result)\n"
   ]
  },
  {
   "attachments": {},
   "cell_type": "markdown",
   "metadata": {},
   "source": [
    "## Join\n",
    "인덱스를 기준으로 두 데이터프레임을 병합하는 데 사용<br>\n",
    "기본적으로 left join을 수행( how=＇inner'|'outer'|'right') \n"
   ]
  },
  {
   "cell_type": "code",
   "execution_count": 10,
   "metadata": {},
   "outputs": [
    {
     "name": "stdout",
     "output_type": "stream",
     "text": [
      "Inner Join:\n",
      "      이름  나이 성별    키   학년\n",
      "1  Steve  32  남  180  2학년\n",
      "2  Sarah  28  여  163  2학년\n"
     ]
    }
   ],
   "source": [
    "import pandas as pd\n",
    "\n",
    "# 첫 번째 데이터프레임 생성\n",
    "data1 = {'이름': ['John', 'Steve', 'Sarah'],\n",
    "         '나이': [25, 32, 28],\n",
    "         '성별': ['남', '남', '여']}\n",
    "df1 = pd.DataFrame(data1)\n",
    "\n",
    "# 두 번째 데이터프레임 생성\n",
    "data2 = {'이름': ['Steve', 'Sarah', 'Mike'],\n",
    "         '키': [180, 163, 190],\n",
    "         '학년': ['2학년', '2학년', '3학년']}\n",
    "df2 = pd.DataFrame(data2)\n",
    "\n",
    "# 조인 작업 수행\n",
    "# how='inner': 내부 조인\n",
    "inner_join = df1.join(df2.set_index('이름'), on='이름', how='inner')\n",
    "print(\"Inner Join:\")\n",
    "print(inner_join)\n"
   ]
  },
  {
   "attachments": {},
   "cell_type": "markdown",
   "metadata": {},
   "source": [
    "# 데이터 그룹화\n",
    "## groupby() 함수\n",
    "데이터프레임을 해당 열의 값에 따라 그룹화합니다.<br>\n",
    "\n",
    "\n",
    "\n",
    "반환값은 그룹화된 데이터프레임을 나타내는 GroupBy 객체<br>\n",
    "\n",
    "\n",
    "그룹화된 데이터에 연산 적용하기<br>\n",
    "\n",
    "\n",
    "\n",
    "'열 이름'은 그룹화된 데이터프레임에서 연산을 수행할 열의 이름<br>\n",
    "'통계 함수'에는 원하는 통계 함수(예: mean, sum, count, min, max 등)\n",
    "\n"
   ]
  },
  {
   "cell_type": "code",
   "execution_count": 11,
   "metadata": {},
   "outputs": [
    {
     "name": "stdout",
     "output_type": "stream",
     "text": [
      "       mean  sum\n",
      "학과              \n",
      "경영학과   90.0  180\n",
      "전산학과   80.0   80\n",
      "전자공학과  82.5  165\n"
     ]
    }
   ],
   "source": [
    "import pandas as pd\n",
    "\n",
    "# 예시 데이터프레임 생성\n",
    "data = {'학과': ['전산학과', '전자공학과', '전자공학과', '경영학과', '경영학과'],\n",
    "        '성적': [80, 90, 75, 85, 95],\n",
    "        '인원': [50, 40, 35, 60, 55]}\n",
    "df = pd.DataFrame(data)\n",
    "\n",
    "# '학과' 열을 기준으로 그룹화한 후 '성적' 열에 대해 평균과 합계 계산\n",
    "grouped = df.groupby('학과')  # '학과' 열을 기준으로 그룹화\n",
    "\n",
    "summary_stats = grouped['성적'].agg(['mean', 'sum'])  # 그룹별 '성적' 열의 평균과 합계 계산\n",
    "print(summary_stats)\n"
   ]
  },
  {
   "attachments": {},
   "cell_type": "markdown",
   "metadata": {},
   "source": [
    "## groupby 함수\n",
    "집계 함수<br>\n",
    "### grouped = df.groupby('열 이름')\n",
    "\n",
    "### grouped['열이름'].집계함수()\n",
    "\n",
    "\n",
    "\n",
    "\n",
    "count(): 그룹별로 데이터의 개수를 계산합니다.<br>\n",
    "size(): 그룹별로 데이터의 크기를 계산합니다. count()와 다르게 NaN값도 포함합니다.<br>\n",
    "sum(): 그룹별로 데이터의 합을 계산합니다.<br>\n",
    "mean(): 그룹별로 데이터의 평균을 계산합니다.<br>\n",
    "median(): 그룹별로 데이터의 중앙값을 계산합니다.<br>\n",
    "min(): 그룹별로 데이터의 최솟값을 계산합니다.<br>\n",
    "max(): 그룹별로 데이터의 최댓값을 계산합니다.<br>\n",
    "std(): 그룹별로 데이터의 표준편차를 계산합니다.<br>\n",
    "var(): 그룹별로 데이터의 분산을 계산합니다.<br>\n",
    "sem(): 그룹별로 데이터의 표준오차를 계산합니다.<br>\n",
    "describe(): 그룹별로 기술통계값을 계산합니다.<br>\n"
   ]
  },
  {
   "cell_type": "code",
   "execution_count": 13,
   "metadata": {},
   "outputs": [
    {
     "ename": "KeyError",
     "evalue": "'gender'",
     "output_type": "error",
     "traceback": [
      "\u001b[1;31m---------------------------------------------------------------------------\u001b[0m",
      "\u001b[1;31mKeyError\u001b[0m                                  Traceback (most recent call last)",
      "Cell \u001b[1;32mIn[13], line 12\u001b[0m\n\u001b[0;32m      9\u001b[0m df \u001b[39m=\u001b[39m pd\u001b[39m.\u001b[39mDataFrame(data)\n\u001b[0;32m     11\u001b[0m \u001b[39m# count\u001b[39;00m\n\u001b[1;32m---> 12\u001b[0m \u001b[39mprint\u001b[39m(df\u001b[39m.\u001b[39;49mgroupby(\u001b[39m\"\u001b[39;49m\u001b[39mgender\u001b[39;49m\u001b[39m\"\u001b[39;49m)[[\u001b[39m\"\u001b[39m\u001b[39mscore1\u001b[39m\u001b[39m\"\u001b[39m, \u001b[39m\"\u001b[39m\u001b[39mscore2\u001b[39m\u001b[39m\"\u001b[39m]]\u001b[39m.\u001b[39mcount())\n\u001b[0;32m     14\u001b[0m \u001b[39m# size\u001b[39;00m\n\u001b[0;32m     15\u001b[0m \u001b[39mprint\u001b[39m(df\u001b[39m.\u001b[39mgroupby(\u001b[39m'\u001b[39m\u001b[39mgender\u001b[39m\u001b[39m'\u001b[39m)[[\u001b[39m'\u001b[39m\u001b[39mscore1\u001b[39m\u001b[39m'\u001b[39m, \u001b[39m'\u001b[39m\u001b[39mscore2\u001b[39m\u001b[39m'\u001b[39m]]\u001b[39m.\u001b[39msize())\n",
      "File \u001b[1;32mc:\\Python\\lib\\site-packages\\pandas\\core\\frame.py:8252\u001b[0m, in \u001b[0;36mDataFrame.groupby\u001b[1;34m(self, by, axis, level, as_index, sort, group_keys, observed, dropna)\u001b[0m\n\u001b[0;32m   8249\u001b[0m     \u001b[39mraise\u001b[39;00m \u001b[39mTypeError\u001b[39;00m(\u001b[39m\"\u001b[39m\u001b[39mYou have to supply one of \u001b[39m\u001b[39m'\u001b[39m\u001b[39mby\u001b[39m\u001b[39m'\u001b[39m\u001b[39m and \u001b[39m\u001b[39m'\u001b[39m\u001b[39mlevel\u001b[39m\u001b[39m'\u001b[39m\u001b[39m\"\u001b[39m)\n\u001b[0;32m   8250\u001b[0m axis \u001b[39m=\u001b[39m \u001b[39mself\u001b[39m\u001b[39m.\u001b[39m_get_axis_number(axis)\n\u001b[1;32m-> 8252\u001b[0m \u001b[39mreturn\u001b[39;00m DataFrameGroupBy(\n\u001b[0;32m   8253\u001b[0m     obj\u001b[39m=\u001b[39;49m\u001b[39mself\u001b[39;49m,\n\u001b[0;32m   8254\u001b[0m     keys\u001b[39m=\u001b[39;49mby,\n\u001b[0;32m   8255\u001b[0m     axis\u001b[39m=\u001b[39;49maxis,\n\u001b[0;32m   8256\u001b[0m     level\u001b[39m=\u001b[39;49mlevel,\n\u001b[0;32m   8257\u001b[0m     as_index\u001b[39m=\u001b[39;49mas_index,\n\u001b[0;32m   8258\u001b[0m     sort\u001b[39m=\u001b[39;49msort,\n\u001b[0;32m   8259\u001b[0m     group_keys\u001b[39m=\u001b[39;49mgroup_keys,\n\u001b[0;32m   8260\u001b[0m     observed\u001b[39m=\u001b[39;49mobserved,\n\u001b[0;32m   8261\u001b[0m     dropna\u001b[39m=\u001b[39;49mdropna,\n\u001b[0;32m   8262\u001b[0m )\n",
      "File \u001b[1;32mc:\\Python\\lib\\site-packages\\pandas\\core\\groupby\\groupby.py:931\u001b[0m, in \u001b[0;36mGroupBy.__init__\u001b[1;34m(self, obj, keys, axis, level, grouper, exclusions, selection, as_index, sort, group_keys, observed, dropna)\u001b[0m\n\u001b[0;32m    928\u001b[0m \u001b[39mself\u001b[39m\u001b[39m.\u001b[39mdropna \u001b[39m=\u001b[39m dropna\n\u001b[0;32m    930\u001b[0m \u001b[39mif\u001b[39;00m grouper \u001b[39mis\u001b[39;00m \u001b[39mNone\u001b[39;00m:\n\u001b[1;32m--> 931\u001b[0m     grouper, exclusions, obj \u001b[39m=\u001b[39m get_grouper(\n\u001b[0;32m    932\u001b[0m         obj,\n\u001b[0;32m    933\u001b[0m         keys,\n\u001b[0;32m    934\u001b[0m         axis\u001b[39m=\u001b[39;49maxis,\n\u001b[0;32m    935\u001b[0m         level\u001b[39m=\u001b[39;49mlevel,\n\u001b[0;32m    936\u001b[0m         sort\u001b[39m=\u001b[39;49msort,\n\u001b[0;32m    937\u001b[0m         observed\u001b[39m=\u001b[39;49mobserved,\n\u001b[0;32m    938\u001b[0m         dropna\u001b[39m=\u001b[39;49m\u001b[39mself\u001b[39;49m\u001b[39m.\u001b[39;49mdropna,\n\u001b[0;32m    939\u001b[0m     )\n\u001b[0;32m    941\u001b[0m \u001b[39mself\u001b[39m\u001b[39m.\u001b[39mobj \u001b[39m=\u001b[39m obj\n\u001b[0;32m    942\u001b[0m \u001b[39mself\u001b[39m\u001b[39m.\u001b[39maxis \u001b[39m=\u001b[39m obj\u001b[39m.\u001b[39m_get_axis_number(axis)\n",
      "File \u001b[1;32mc:\\Python\\lib\\site-packages\\pandas\\core\\groupby\\grouper.py:985\u001b[0m, in \u001b[0;36mget_grouper\u001b[1;34m(obj, key, axis, level, sort, observed, validate, dropna)\u001b[0m\n\u001b[0;32m    983\u001b[0m         in_axis, level, gpr \u001b[39m=\u001b[39m \u001b[39mFalse\u001b[39;00m, gpr, \u001b[39mNone\u001b[39;00m\n\u001b[0;32m    984\u001b[0m     \u001b[39melse\u001b[39;00m:\n\u001b[1;32m--> 985\u001b[0m         \u001b[39mraise\u001b[39;00m \u001b[39mKeyError\u001b[39;00m(gpr)\n\u001b[0;32m    986\u001b[0m \u001b[39melif\u001b[39;00m \u001b[39misinstance\u001b[39m(gpr, Grouper) \u001b[39mand\u001b[39;00m gpr\u001b[39m.\u001b[39mkey \u001b[39mis\u001b[39;00m \u001b[39mnot\u001b[39;00m \u001b[39mNone\u001b[39;00m:\n\u001b[0;32m    987\u001b[0m     \u001b[39m# Add key to exclusions\u001b[39;00m\n\u001b[0;32m    988\u001b[0m     exclusions\u001b[39m.\u001b[39madd(gpr\u001b[39m.\u001b[39mkey)\n",
      "\u001b[1;31mKeyError\u001b[0m: 'gender'"
     ]
    }
   ],
   "source": [
    "import pandas as pd\n",
    "\n",
    "Data = {\"name\": [\"Alice\", \"Bob\", \"Charlie\", \"David\", \"Emily\", \"Frank\"],\n",
    "        \"gender\": [\"F\", \"M\", \"M\", \"M\", \"F\", \"M\"],\n",
    "        \"age\": [25, 30, 35, 40, 45, 50],\n",
    "        \"score1\": [80, 70, 85, 75, 90, 95],\n",
    "        \"score2\": [85, 75, 90, 80, 95, 100]}\n",
    "\n",
    "df = pd.DataFrame(data)\n",
    "\n",
    "# count\n",
    "print(df.groupby(\"gender\")[[\"score1\", \"score2\"]].count())\n",
    "\n",
    "# size\n",
    "print(df.groupby('gender')[['score1', 'score2']].size())\n",
    "\n",
    "# sum\n",
    "print(df.groupby('gender')[['score1', 'score2']].sum())\n",
    "\n",
    "# mean\n",
    "print(df.groupby('gender')[['score1', 'score2']].mean())\n",
    "\n",
    "# median\n",
    "print(df.groupby('gender')[['score1', 'score2']].median())\n",
    "\n",
    "# min\n",
    "print(df.groupby('gender')[['score1', 'score2']].min())\n",
    "\n",
    "# max\n",
    "print(df.groupby('gender')[['score1', 'score2']].max())\n",
    "\n",
    "\n"
   ]
  },
  {
   "cell_type": "code",
   "execution_count": 27,
   "metadata": {},
   "outputs": [
    {
     "data": {
      "text/plain": [
       "<function matplotlib.pyplot.show(close=None, block=None)>"
      ]
     },
     "execution_count": 27,
     "metadata": {},
     "output_type": "execute_result"
    },
    {
     "data": {
      "image/png": "[encoded data removed]",
      "text/plain": [
       "<Figure size 640x480 with 1 Axes>"
      ]
     },
     "metadata": {},
     "output_type": "display_data"
    }
   ],
   "source": [
    "import pandas as pd\n",
    "import matplotlib.pyplot as plt\n",
    "import numpy as np\n",
    "\n",
    "data = {'Name': ['John', 'Mike', 'Sarah', 'Adam', 'Emily', 'Daniel', 'Olivia', 'Liam', 'Sophia', 'Ethan',\n",
    "                 'Emma', 'Jacob', 'Ava', 'Mia', 'Noah', 'Charlotte', 'Harper', 'William', 'Benjamin', 'Elijah',\n",
    "                 'Amelia', 'James', 'Oliver', 'Lucas', 'Mason', 'Logan', 'Alexander', 'Evelyn', 'Grace', 'Victoria'],\n",
    "        'Age': np.random.randint(20, 40, 30),\n",
    "        'Gender': ['Male', 'Male', 'Female', 'Male', 'Female', 'Male', 'Female', 'Male', 'Female', 'Male',\n",
    "                   'Female', 'Male', 'Female', 'Female', 'Male', 'Female', 'Female', 'Male', 'Male', 'Male',\n",
    "                   'Female', 'Male', 'Male', 'Male', 'Male', 'Male', 'Male', 'Female', 'Female', 'Female'],\n",
    "        'City': ['New York', 'Paris', 'London', 'Sydney', 'Tokyo', 'Berlin', 'Rome', 'Madrid', 'Seoul', 'Beijing',\n",
    "                 'Moscow', 'Vienna', 'Athens', 'Cairo', 'Lisbon', 'Dublin', 'Amsterdam', 'Stockholm', 'Oslo', 'Helsinki',\n",
    "                 'Copenhagen', 'Budapest', 'Prague', 'Warsaw', 'Vienna', 'Brussels', 'Luxembourg', 'Zurich', 'Geneva', 'Dubai']}\n",
    "df = pd.DataFrame(data)\n",
    "\n",
    "\n",
    "#df[\"Name\"].str.slice(0,1)\n",
    "#df['Name'].str[0]\n",
    "df[\"initial\"] = df['Name'].str[0]\n",
    "mean_age_by_initial = df.groupby(\"initial\")[\"Age\"].mean()\n",
    "\n",
    "overall_mean_age = df[\"Age\"].mean()\n",
    "\n",
    "plt.bar(mean_age_by_initial.index, mean_age_by_initial.values )\n",
    "plt.axhline(overall_mean_age,color = \"pink\",linestyle = \"--\",label = \"overall_mean_age\")\n",
    "plt.xlabel(\"initial\")\n",
    "plt.ylabel(\"Mean Age\")\n",
    "plt.legend()\n",
    "plt.show\n"
   ]
  },
  {
   "attachments": {},
   "cell_type": "markdown",
   "metadata": {},
   "source": [
    "## 다중 열에 대한 집계 함수를 적용하는 방법\n",
    "### grouped = df.groupby(['열이름A’, ‘열이름B’])\n",
    "\n",
    "### grouped.agg({'열1': '집계함수1', '열2': '집계함수2', ...})\n"
   ]
  },
  {
   "cell_type": "code",
   "execution_count": 28,
   "metadata": {},
   "outputs": [
    {
     "name": "stdout",
     "output_type": "stream",
     "text": [
      "              C   D      \n",
      "          count sum  mean\n",
      "A   B                    \n",
      "bar one       1  20  20.0\n",
      "    three     1  40  40.0\n",
      "    two       1  60  60.0\n",
      "foo one       2  80  40.0\n",
      "    three     1  80  80.0\n",
      "    two       2  80  40.0\n"
     ]
    }
   ],
   "source": [
    "import pandas as pd\n",
    "\n",
    "df = pd.DataFrame({\n",
    "    'A': ['foo', 'bar', 'foo', 'bar', 'foo', 'bar', 'foo', 'foo'],\n",
    "    'B': ['one', 'one', 'two', 'three', 'two', 'two', 'one', 'three'],\n",
    "    'C': [1, 2, 3, 4, 5, 6, 7, 8],\n",
    "    'D': [10, 20, 30, 40, 50, 60, 70, 80]\n",
    "})\n",
    "\n",
    "result = df.groupby(['A', 'B']).agg({'C': 'count', 'D': ['sum', 'mean']})\n",
    "print(result)\n"
   ]
  },
  {
   "attachments": {},
   "cell_type": "markdown",
   "metadata": {},
   "source": [
    "사용자 정의 함수를 적용 가능\n"
   ]
  },
  {
   "cell_type": "code",
   "execution_count": 29,
   "metadata": {},
   "outputs": [
    {
     "name": "stdout",
     "output_type": "stream",
     "text": [
      "                         B\n",
      "A                         \n",
      "bar          one-three-two\n",
      "foo  one-one-three-two-two\n"
     ]
    }
   ],
   "source": [
    "import pandas as pd\n",
    "\n",
    "df = pd.DataFrame({\n",
    "    'A': ['foo', 'bar', 'foo', 'bar', 'foo', 'bar', 'foo', 'foo'],\n",
    "    'B': ['one', 'one', 'two', 'three', 'two', 'two', 'one', 'three'],\n",
    "})\n",
    "\n",
    "def my_func(x):\n",
    "    return '-'.join(sorted(x))\n",
    "\n",
    "result = df.groupby('A').agg({'B': my_func})\n",
    "\n",
    "print(result)\n",
    "\n",
    "#\t\t          B\n",
    "#A                         \n",
    "#bar          one-three-two\n",
    "#foo  one-one-three-two-two\n"
   ]
  },
  {
   "attachments": {},
   "cell_type": "markdown",
   "metadata": {},
   "source": [
    "## Pivot_table\n",
    "### 데이터프레임에서 특정 열을 그룹화하여 행과 열을 피벗테이블 형태로 나타낼 수 있습니다.<br>\n",
    "Name 열과 Date 열을 기준으로 Value 열의 평균을 계산해서 피벗테이블로 출력\n"
   ]
  },
  {
   "cell_type": "code",
   "execution_count": 30,
   "metadata": {},
   "outputs": [
    {
     "name": "stdout",
     "output_type": "stream",
     "text": [
      "Date   Day 1  Day 2\n",
      "Name               \n",
      "Alice     20     30\n",
      "Bob       25     35\n"
     ]
    }
   ],
   "source": [
    "import pandas as pd\n",
    "\n",
    "df = pd.DataFrame({\n",
    "    'Name': ['Alice', 'Alice', 'Bob', 'Bob', 'Alice', 'Alice', 'Bob', 'Bob'],\n",
    "    'Date': ['Day 1', 'Day 2', 'Day 1', 'Day 2', 'Day 1', 'Day 2', 'Day 1', 'Day 2'],\n",
    "    'Value': [10, 20, 15, 25, 30, 40, 35, 45]\n",
    "})\n",
    "\n",
    "result = df.pivot_table(index='Name', columns='Date', values='Value', aggfunc='mean')\n",
    "\n",
    "print(result)\n",
    "\n"
   ]
  },
  {
   "attachments": {},
   "cell_type": "markdown",
   "metadata": {},
   "source": [
    "매출 데이터를 이용한 지역별, 시간대별 매출 합계\n"
   ]
  },
  {
   "cell_type": "code",
   "execution_count": 31,
   "metadata": {},
   "outputs": [
    {
     "name": "stdout",
     "output_type": "stream",
     "text": [
      "Time    Afternoon  Morning\n",
      "Region                    \n",
      "East          150      100\n",
      "North         350      300\n",
      "South         450      400\n",
      "West          250      200\n"
     ]
    }
   ],
   "source": [
    "import pandas as pd\n",
    "\n",
    "# 매출 데이터 생성\n",
    "data = {'Region': ['East', 'East', 'West', 'West', 'North', 'North', 'South', 'South'], \n",
    "        'Time': ['Morning', 'Afternoon', 'Morning', 'Afternoon', 'Morning', 'Afternoon', 'Morning', 'Afternoon'],\n",
    "        'Sales': [100, 150, 200, 250, 300, 350, 400, 450]}\n",
    "df = pd.DataFrame(data)\n",
    "\n",
    "# 피벗테이블 생성\n",
    "result = df.pivot_table(index='Region', columns='Time', values='Sales', aggfunc='sum')\n",
    "\n",
    "print(result)\n"
   ]
  },
  {
   "attachments": {},
   "cell_type": "markdown",
   "metadata": {},
   "source": [
    "고객 데이터를 이용한 지역별, 연령대별 평균 소비 금액 평균\n"
   ]
  },
  {
   "cell_type": "code",
   "execution_count": 32,
   "metadata": {},
   "outputs": [
    {
     "name": "stdout",
     "output_type": "stream",
     "text": [
      "Age     (10, 30]  (30, 50]  (50, 70]\n",
      "Region                              \n",
      "East       125.0       NaN       NaN\n",
      "North      300.0     350.0       NaN\n",
      "South        NaN     400.0     450.0\n",
      "West         NaN     225.0       NaN\n"
     ]
    }
   ],
   "source": [
    "import pandas as pd\n",
    "\n",
    "# 고객 데이터 생성\n",
    "data = {'Region': ['East', 'East', 'West', 'West', 'North', 'North', 'South', 'South'], \n",
    "        'Age': [20, 30, 40, 50, 30, 40, 50, 60],\n",
    "        'Sales': [100, 150, 200, 250, 300, 350, 400, 450]}\n",
    "df = pd.DataFrame(data)\n",
    "\n",
    "# 피벗테이블 생성\n",
    "result = df.pivot_table(index='Region', columns=pd.cut(df['Age'], [10, 30, 50, 70]), values='Sales', aggfunc='mean')\n",
    "\n",
    "print(result)\n"
   ]
  },
  {
   "attachments": {},
   "cell_type": "markdown",
   "metadata": {},
   "source": [
    "## cut 함수\n",
    "주어진 데이터를 일정한 구간으로 나누어 범주형 데이터로 변환하는 함수<br>\n",
    "생성된 카테고리는 groupby나 pivot_table과 같은 함수에서 인덱스 또는 열로 사용될 수 있습니다.\n"
   ]
  },
  {
   "cell_type": "code",
   "execution_count": 33,
   "metadata": {},
   "outputs": [
    {
     "name": "stdout",
     "output_type": "stream",
     "text": [
      "    age age_categories\n",
      "0    22       (20, 40]\n",
      "1    44       (40, 60]\n",
      "2    65       (60, 80]\n",
      "3    86      (80, 100]\n",
      "4    27       (20, 40]\n",
      "5    19        (0, 20]\n",
      "6    51       (40, 60]\n",
      "7    92      (80, 100]\n",
      "8    33       (20, 40]\n",
      "9    35       (20, 40]\n",
      "10   38       (20, 40]\n",
      "11   42       (40, 60]\n",
      "12   14        (0, 20]\n",
      "13   50       (40, 60]\n",
      "14   78       (60, 80]\n",
      "                age\n",
      "age_categories     \n",
      "(0, 20]           2\n",
      "(20, 40]          5\n",
      "(40, 60]          4\n",
      "(60, 80]          2\n",
      "(80, 100]         2\n"
     ]
    }
   ],
   "source": [
    "import pandas as pd\n",
    "\n",
    "# 나이 데이터 생성\n",
    "ages = pd.DataFrame({'age': [22, 44, 65, 86, 27, 19, 51, 92, 33, 35, 38, 42, 14, 50, 78]})\n",
    "\n",
    "# 연령대 구간 지정\n",
    "bins = [0, 20, 40, 60, 80, 100]\n",
    "\n",
    "# 연령대 카테고리 생성\n",
    "age_categories = pd.cut(ages['age'], bins)\n",
    "\n",
    "# 데이터프레임에 새로운 카테고리 열 추가\n",
    "ages['age_categories'] = age_categories\n",
    "\n",
    "# 결과 확인\n",
    "print(ages)\n",
    "\n",
    "result = pd.pivot_table(ages, index='age_categories', aggfunc='count')\n",
    "\n",
    "print(result)\n",
    "\n"
   ]
  },
  {
   "attachments": {},
   "cell_type": "markdown",
   "metadata": {},
   "source": [
    "Pivot_table 결과를 이용한 그래프 그리는 예제<br>\n",
    "학년/과목별 점수의 평균\n"
   ]
  },
  {
   "cell_type": "code",
   "execution_count": 69,
   "metadata": {},
   "outputs": [
    {
     "data": {
      "image/png": "[encoded data removed]",
      "text/plain": [
       "<Figure size 640x480 with 1 Axes>"
      ]
     },
     "metadata": {},
     "output_type": "display_data"
    }
   ],
   "source": [
    "import pandas as pd\n",
    "import numpy as np\n",
    "import matplotlib.pyplot as plt\n",
    "\n",
    "# 예시 데이터프레임 생성\n",
    "data = {'Grade': np.random.randint(1, 4, size=30),\n",
    "        'Score': np.random.randint(50, 100, size=30),\n",
    "        'Subject': np.random.choice(['Math', 'English', 'Korean'], size=30)}\n",
    "df = pd.DataFrame(data)\n",
    "\n",
    "# 과목별 평균 성적 계산\n",
    "pivot_table = df.pivot_table(index='Grade', columns='Subject', values='Score', aggfunc='mean')\n",
    "\n",
    "# 선 그래프 그리기\n",
    "pivot_table.plot(kind='line', marker='o')\n",
    "plt.title('Average Score by Subject and Grade')\n",
    "plt.xlabel('Grade')\n",
    "plt.ylabel('Average Score')\n",
    "plt.legend(title='Subject')\n",
    "plt.xticks(pivot_table.index)\n",
    "plt.show()\n",
    "\n"
   ]
  },
  {
   "attachments": {},
   "cell_type": "markdown",
   "metadata": {},
   "source": [
    "Pivot_table 결과를 이용한 그래프 그리는 예제\n"
   ]
  },
  {
   "cell_type": "code",
   "execution_count": 72,
   "metadata": {},
   "outputs": [
    {
     "data": {
      "image/png": "[encoded data removed]",
      "text/plain": [
       "<Figure size 640x480 with 1 Axes>"
      ]
     },
     "metadata": {},
     "output_type": "display_data"
    }
   ],
   "source": [
    "import pandas as pd\n",
    "import numpy as np\n",
    "import matplotlib.pyplot as plt\n",
    "\n",
    "# 예시 데이터프레임 생성\n",
    "data = {'Grade': np.random.randint(1, 4, size=30),\n",
    "        'Score': np.random.randint(50, 100, size=30),\n",
    "        'Subject': np.random.choice(['Math', 'English', 'Korean'], size=30)}\n",
    "df = pd.DataFrame(data)\n",
    "\n",
    "# 과목별 평균 성적 계산\n",
    "pivot_table = df.pivot_table(index='Grade', columns='Subject', values='Score', aggfunc='mean')\n",
    "\n",
    "# 막대 그래프 그리기\n",
    "pivot_table.plot(kind='bar')\n",
    "plt.title('Average Score by Subject and Grade')\n",
    "plt.xlabel('Grade')\n",
    "plt.ylabel('Average Score')\n",
    "plt.legend(title='Subject')\n",
    "plt.xticks(rotation=0)\n",
    "plt.show()\n",
    "\n"
   ]
  },
  {
   "attachments": {},
   "cell_type": "markdown",
   "metadata": {},
   "source": [
    "## 시계열 데이터 변환\n",
    "pd.to_datetime()<br>\n",
    "문자열이나 다른 형식의 날짜와 시간 데이터를 datetime 형식으로 변환할 때 사용\n"
   ]
  },
  {
   "cell_type": "code",
   "execution_count": 75,
   "metadata": {},
   "outputs": [
    {
     "name": "stdout",
     "output_type": "stream",
     "text": [
      "        date  value\n",
      "0 2021-08-15    100\n",
      "1 2021-08-16    200\n",
      "2 2021-08-17    150\n",
      "<class 'pandas.core.frame.DataFrame'>\n",
      "RangeIndex: 3 entries, 0 to 2\n",
      "Data columns (total 2 columns):\n",
      " #   Column  Non-Null Count  Dtype         \n",
      "---  ------  --------------  -----         \n",
      " 0   date    3 non-null      datetime64[ns]\n",
      " 1   value   3 non-null      int64         \n",
      "dtypes: datetime64[ns](1), int64(1)\n",
      "memory usage: 176.0 bytes\n"
     ]
    }
   ],
   "source": [
    "import pandas as pd\n",
    "\n",
    "data = {'date': ['2021-08-15', '2021-08-16', '2021-08-17'],\n",
    "        'value': [100, 200, 150]}\n",
    "df = pd.DataFrame(data)\n",
    "\n",
    "df['date'] = pd.to_datetime(df['date'])\n",
    "print(df)\n",
    "df.info()\n"
   ]
  },
  {
   "attachments": {},
   "cell_type": "markdown",
   "metadata": {},
   "source": [
    "## 시계열 데이터 변환\n",
    "pd.resample()<br>\n",
    "기존의 데이터셋을 새로운 시간 간격에 맞추어 변환해줍니다.<br>\n",
    "미리 정의된 문자열로 일반적인 시간 간격에 대한 별칭을 제공<br>\n",
    "D(day), H(hour)<br>\n",
    "on 매개변수를 사용하여 시간 인덱스를 지정<br>\n"
   ]
  },
  {
   "cell_type": "code",
   "execution_count": 79,
   "metadata": {},
   "outputs": [
    {
     "name": "stdout",
     "output_type": "stream",
     "text": [
      "                     PM10  PM2.5\n",
      "location date                   \n",
      "대구       2022-01-01  60.0   30.0\n",
      "         2022-01-02  65.0   35.0\n",
      "부산       2022-01-01  45.0   22.0\n",
      "         2022-01-02  55.0   28.0\n",
      "서울       2022-01-01  50.0   25.0\n",
      "         2022-01-02  40.0   20.0\n"
     ]
    }
   ],
   "source": [
    "import pandas as pd\n",
    "\n",
    "data = {'date': ['2022-01-01', '2022-01-02', '2022-01-01', '2022-01-02', '2022-01-01', '2022-01-02'],\n",
    "        'location': ['서울', '서울', '부산', '부산', '대구', '대구'],\n",
    "        'PM10': [50, 40, 45, 55, 60, 65],\n",
    "        'PM2.5': [25, 20, 22, 28, 30, 35]}\n",
    "df = pd.DataFrame(data)\n",
    "df['date'] = pd.to_datetime(df['date'])\n",
    "\n",
    "df_monthly = df.groupby('location').resample(\"D\", on='date').mean(numeric_only=True)\n",
    "print(df_monthly)\n"
   ]
  },
  {
   "attachments": {},
   "cell_type": "markdown",
   "metadata": {},
   "source": [
    "## 시계열 데이터 변환\n",
    "### pd.resample()\n",
    "#### 시간 간격(alias) 문자열\n",
    "B: 평일(Business day) 기준으로 간격 지정<br>\n",
    "C: 사용자 지정 시간대 내에서의 주기마다 간격 지정<br>\n",
    "D: 달력 일(Day) 기준으로 간격 지정<br>\n",
    "W: 주(Week) 기준으로 간격 지정<br>\n",
    "M: 달(Month)의 마지막 날 기준으로 간격 지정<br>\n",
    "SM: 반월(Semi-Month) 기준으로 간격 지정 (월의 15일과 말일을 기준)<br>\n",
    "BM: 평일 기준으로 한 달의 마지막 날까지 간격 지정<br>\n",
    "CBM: 사용자 지정 시간대 내에서 평일 기준으로 한 달의 마지막 날까지 간격 지정<br>\n",
    "MS: 달(Month)의 시작일 기준으로 간격 지정<br>\n",
    "SMS: 반월(Semi-Month) 기준으로 간격 지정 (월의 1일과 15일을 기준)<br>\n",
    "BMS: 평일 기준으로 한 달의 시작일부터 마지막 날까지 간격 지정<br>\n",
    "CBMS: 사용자 지정 시간대 내에서 평일 기준으로 한 달의 시작일부터 마지막 날까지 간격 지정<br>\n",
    "Q: 분기(Quarter)의 마지막 날 기준으로 간격 지정<br>\n",
    "BQ: 평일 기준으로 분기의 마지막 날까지 간격 지정<br>\n",
    "QS: 분기(Quarter)의 시작일 기준으로 간격 지정<br>\n",
    "BQS: 평일 기준으로 분기의 시작일부터 마지막 날까지 간격 지정<br>\n",
    "A: 해(Year)의 마지막 날 기준으로 간격 지정<br>\n",
    "BA: 평일 기준으로 해의 마지막 날까지 간격 지정<br>\n",
    "AS: 해(Year)의 시작일 기준으로 간격 지정<br>\n",
    "BAS: 평일 기준으로 해의 시작일부터 마지막 날까지 간격 지정<br>\n",
    "\n"
   ]
  },
  {
   "attachments": {},
   "cell_type": "markdown",
   "metadata": {},
   "source": [
    "# 실제 데이터를 시각화하는 프로젝트\n",
    "## 데이터 수집 및 전처리\n",
    "이번 프로젝트에서는 공공 데이터 포털에서 제공하는 '서울시 일별 대기오염 정보' 데이터를 사용합니다. 데이터는 CSV 형식으로 제공되며,<br> 다음 링크에서 다운로드할 수 있습니다.<br>\n",
    "\n",
    "## 서울시 일별 대기오염 정보\n",
    "다운로드한 데이터 파일은 다음과 같은 필드를 포함합니다.<br>\n",
    "측정일시<br>\n",
    "미세먼지 농도 (PM10)<br>\n",
    "초미세먼지 농도 (PM2.5)<br>\n",
    "\n",
    " #### 이중에서 측정일시, 미세먼지 농도, 초미세먼지 농도에 해당하는 필드만을 추출하여 데이터를 전처리합니다.\n"
   ]
  },
  {
   "cell_type": "code",
   "execution_count": 85,
   "metadata": {},
   "outputs": [
    {
     "name": "stdout",
     "output_type": "stream",
     "text": [
      "       측정일시  측정소명  이산화질소농도(ppm)  오존농도(ppm)  일산화탄소농도(ppm)  아황산가스농도(ppm)  \\\n",
      "0  20220101   강남구         0.029      0.014           0.5         0.003   \n",
      "1  20220101   홍릉로         0.038      0.009           0.6         0.004   \n",
      "2  20220101    행주         0.034      0.012           0.7         0.004   \n",
      "3  20220101    항동         0.030      0.011           0.5         0.003   \n",
      "4  20220101  한강대로         0.037      0.011           0.6         0.003   \n",
      "\n",
      "   미세먼지농도(㎍/㎥)  초미세먼지농도(㎍/㎥)  \n",
      "0         25.0          12.0  \n",
      "1         27.0          16.0  \n",
      "2         27.0          16.0  \n",
      "3         27.0          14.0  \n",
      "4         34.0          14.0  \n",
      "        측정일시  측정소명  미세먼지농도(㎍/㎥)  초미세먼지농도(㎍/㎥)\n",
      "0 2022-01-01   강남구         25.0          12.0\n",
      "1 2022-01-01   홍릉로         27.0          16.0\n",
      "2 2022-01-01    행주         27.0          16.0\n",
      "3 2022-01-01    항동         27.0          14.0\n",
      "4 2022-01-01  한강대로         34.0          14.0\n",
      "5 2022-01-01  청계천로         27.0          16.0\n",
      "6 2022-01-01  천호대로         38.0          17.0\n",
      "7 2022-01-01   중랑구         25.0          12.0\n",
      "8 2022-01-01    중구         28.0          17.0\n",
      "9 2022-01-01   종로구         27.0          15.0\n"
     ]
    }
   ],
   "source": [
    "import pandas as pd\n",
    "\n",
    "# 데이터 파일 경로\n",
    "data_path = '일별평균대기오염도_2022.csv'\n",
    "\n",
    "# CSV 파일 읽기\n",
    "df = pd.read_csv(data_path, encoding=\"cp949\")\n",
    "#데이터 필드 확인\n",
    "print(df.head(5))\n",
    "# 필요한 필드 추출\n",
    "df = df[['측정일시', '측정소명', '미세먼지농도(㎍/㎥)', '초미세먼지농도(㎍/㎥)']]\n",
    "\n",
    "# 결측치 처리\n",
    "df = df.dropna()\n",
    "\n",
    "# 측정일시 컬럼의 데이터 타입을 datetime으로 변경  format 옵션으로 데이터에 대한 값 정하기 \n",
    "df['측정일시'] = pd.to_datetime(df['측정일시'], format='%Y%m%d')\n",
    "\n",
    "print(df.head(10))\n",
    "\n",
    "\n"
   ]
  },
  {
   "attachments": {},
   "cell_type": "markdown",
   "metadata": {},
   "source": [
    "데이터 시각화\n",
    "월별 대기오염 추이 그래프\n",
    "#### resample() 함수를 사용하여 월별 미세먼지와 초미세먼지 농도 평균을 계산한 뒤, plot() 함수를 사용하여 그래프를 그렸습니다. \n"
   ]
  },
  {
   "cell_type": "code",
   "execution_count": 86,
   "metadata": {},
   "outputs": [
    {
     "data": {
      "image/png": "[encoded data removed]",
      "text/plain": [
       "<Figure size 640x480 with 1 Axes>"
      ]
     },
     "metadata": {},
     "output_type": "display_data"
    }
   ],
   "source": [
    "import matplotlib.pyplot as plt\n",
    "\n",
    "# 연도별 미세먼지와 초미세먼지 농도 평균 계산\n",
    "df_monthly = df.resample('M', on='측정일시').mean(numeric_only=True)\n",
    "\n",
    "# 그래프 그리기\n",
    "plt.plot(df_monthly.index.month, df_monthly['미세먼지농도(㎍/㎥)'], label='PM10')\n",
    "plt.plot(df_monthly.index.month, df_monthly['초미세먼지농도(㎍/㎥)'], label='PM2.5')\n",
    "plt.legend()\n",
    "plt.xlabel('Month')\n",
    "plt.ylabel('Concentration')\n",
    "plt.title('2022 Air Pollution Trend')\n",
    "plt.show()\n"
   ]
  },
  {
   "attachments": {},
   "cell_type": "markdown",
   "metadata": {},
   "source": [
    "데이터 시각화\n",
    "일별 대기오염 추이 그래프\n"
   ]
  },
  {
   "cell_type": "code",
   "execution_count": 88,
   "metadata": {},
   "outputs": [
    {
     "data": {
      "image/png": "[encoded data removed]",
      "text/plain": [
       "<Figure size 640x480 with 1 Axes>"
      ]
     },
     "metadata": {},
     "output_type": "display_data"
    }
   ],
   "source": [
    "import matplotlib.pyplot as plt\n",
    "\n",
    "# 일별 합계 계산\n",
    "df_daily = df.resample('D', on='측정일시').sum(numeric_only=True)\n",
    "\n",
    "# 일평균 대기오염도 계산\n",
    "df_daily['미세먼지농도(㎍/㎥)'] /= 24\n",
    "df_daily['초미세먼지농도(㎍/㎥)'] /= 24\n",
    "\n",
    "# 그래프 그리기\n",
    "plt.plot(df_daily.index, df_daily['미세먼지농도(㎍/㎥)'], label='PM10')\n",
    "plt.plot(df_daily.index, df_daily['초미세먼지농도(㎍/㎥)'], label='PM2.5')\n",
    "plt.legend()\n",
    "plt.xlabel('Date')\n",
    "plt.ylabel('Concentration')\n",
    "plt.title('2022 Air Pollution Trend')\n",
    "plt.show()\n"
   ]
  },
  {
   "attachments": {},
   "cell_type": "markdown",
   "metadata": {},
   "source": [
    "데이터 시각화\n",
    "지역별 미세먼지와 초미세먼지 농도 평균 계산\n"
   ]
  },
  {
   "cell_type": "code",
   "execution_count": 87,
   "metadata": {},
   "outputs": [
    {
     "data": {
      "image/png": "[encoded data removed]",
      "text/plain": [
       "<Figure size 640x480 with 1 Axes>"
      ]
     },
     "metadata": {},
     "output_type": "display_data"
    }
   ],
   "source": [
    "import matplotlib.pyplot as plt\n",
    "plt.rcParams['font.family'] = 'Malgun Gothic'\n",
    "\n",
    "# 지역별 미세먼지와 초미세먼지 농도 평균 계산\n",
    "df_area = df.groupby('측정소명').mean(numeric_only=True).head(20)\n",
    "\n",
    "# 그래프 그리기\n",
    "plt.bar(df_area.index, df_area['미세먼지농도(㎍/㎥)'], label='PM10')\n",
    "plt.bar(df_area.index, df_area['초미세먼지농도(㎍/㎥)'], label='PM2.5')\n",
    "plt.legend()\n",
    "plt.xlabel('Area')\n",
    "plt.ylabel('Concentration')\n",
    "plt.title('Air Pollution by Area')\n",
    "plt.show()\n"
   ]
  },
  {
   "attachments": {},
   "cell_type": "markdown",
   "metadata": {},
   "source": [
    "데이터 시각화\n",
    "대기오염 상자그림\n"
   ]
  },
  {
   "cell_type": "code",
   "execution_count": 89,
   "metadata": {},
   "outputs": [
    {
     "data": {
      "image/png": "[encoded data removed]",
      "text/plain": [
       "<Figure size 640x480 with 1 Axes>"
      ]
     },
     "metadata": {},
     "output_type": "display_data"
    }
   ],
   "source": [
    "import matplotlib.pyplot as plt\n",
    "\n",
    "# 그래프 그리기\n",
    "plt.boxplot([df['미세먼지농도(㎍/㎥)'], df['초미세먼지농도(㎍/㎥)']])\n",
    "plt.xticks([1,2],['PM10', 'PM2.5'])\n",
    "plt.ylabel('Concentration')\n",
    "plt.title('Air Pollution Boxplot')\n",
    "plt.show()\n"
   ]
  }
 ],
 "metadata": {
  "kernelspec": {
   "display_name": "Python 3",
   "language": "python",
   "name": "python3"
  },
  "language_info": {
   "codemirror_mode": {
    "name": "ipython",
    "version": 3
   },
   "file_extension": ".py",
   "mimetype": "text/x-python",
   "name": "python",
   "nbconvert_exporter": "python",
   "pygments_lexer": "ipython3",
   "version": "3.10.9"
  },
  "orig_nbformat": 4
 },
 "nbformat": 4,
 "nbformat_minor": 2
}
